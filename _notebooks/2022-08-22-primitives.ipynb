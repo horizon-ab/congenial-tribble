{
 "cells": [
  {
   "cell_type": "markdown",
   "metadata": {},
   "source": [
    "# Primitive Data Types\n",
    "\n",
    "Examples on how to use primitive data types"
   ]
  },
  {
   "cell_type": "code",
   "execution_count": null,
   "metadata": {
    "vscode": {
     "languageId": "java"
    }
   },
   "outputs": [],
   "source": [
    "public class Primitives {\n",
    "\n",
    "    public static void main(String[] args) {\n",
    "\n",
    "    }\n",
    "}\n",
    "\n",
    "Primitives.main(NULL);"
   ]
  }
 ],
 "metadata": {
  "language_info": {
   "name": "python"
  },
  "orig_nbformat": 4
 },
 "nbformat": 4,
 "nbformat_minor": 2
}
