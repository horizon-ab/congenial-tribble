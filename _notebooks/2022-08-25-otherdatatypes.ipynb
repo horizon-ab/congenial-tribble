{
 "cells": [
  {
   "cell_type": "markdown",
   "metadata": {},
   "source": [
    "# Other Data Types\n",
    "\n",
    "There are a few other data types that weren't mentioned in the primitives notebook, so I'll be going over a few of them here with examples."
   ]
  },
  {
   "cell_type": "markdown",
   "metadata": {},
   "source": [
    "Primitives already went over ints, booleans, doubles, and Strings. These are a few of the other data types:\n",
    "- char: a single character (uses single quotes)\n",
    "- short: a more memory efficient version of int (with a smaller range)\n",
    "- long: a longer version of int, with a much larger range\n",
    "- float: similar to double, but can only hold 7 decimals instead of 15\n",
    "\n",
    "Examples below"
   ]
  },
  {
   "cell_type": "code",
   "execution_count": 4,
   "metadata": {
    "vscode": {
     "languageId": "java"
    }
   },
   "outputs": [],
   "source": [
    "char letter = 'b';\n",
    "short shortNumber = 45;\n",
    "long longNumber = 100000;\n",
    "float floatNumber = 5.23f;"
   ]
  }
 ],
 "metadata": {
  "kernelspec": {
   "display_name": "Java",
   "language": "java",
   "name": "java"
  },
  "language_info": {
   "codemirror_mode": "java",
   "file_extension": ".jshell",
   "mimetype": "text/x-java-source",
   "name": "Java",
   "pygments_lexer": "java",
   "version": "17.0.4+8"
  },
  "orig_nbformat": 4
 },
 "nbformat": 4,
 "nbformat_minor": 2
}
