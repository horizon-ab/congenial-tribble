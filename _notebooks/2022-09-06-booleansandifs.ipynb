{
 "cells": [
  {
   "cell_type": "markdown",
   "metadata": {},
   "source": [
    "# Boolean Expressions and If Statements\n",
    "> Focus on Ifs, Switch, Expressions and how to build control structures in Java.\n",
    "\n",
    "- title: Boolean Expressions and If Statements\n",
    "- toc: true\n",
    "- categories: [units]\n",
    "- image: /images/boolean.png\n",
    "- permalink: /unit/3\n",
    "- type: ap\n",
    "- week: 3"
   ]
  },
  {
   "cell_type": "markdown",
   "metadata": {},
   "source": [
    "## Expression, Assignments, and Condition Statements\n",
    "All of the Units have video series.  We have access to information and content for College Board and Code.org.  Below are two sample videos, it is up to you to determine the detail or brevity that you will need according to your experience.\n",
    "- AP Classroom [Boolean Expressions](https://apclassroom.collegeboard.org/8/home?apd=5kbsvu3q3p&unit=3)\n",
    "- Code.org [If and Conditions](https://www.youtube.com/watch?v=2rQmLwYVYpw), less than 2 minutes"
   ]
  },
  {
   "cell_type": "markdown",
   "metadata": {},
   "source": [
    "### Introduction to Boolean expression\n",
    "A Boolean expression is a logical statement that can be evaluated to True or False.  A Boolean expression may be composed of a combination of the Boolean constants true or false."
   ]
  },
  {
   "cell_type": "code",
   "execution_count": 4,
   "metadata": {
    "vscode": {
     "languageId": "java"
    }
   },
   "outputs": [
    {
     "name": "stdout",
     "output_type": "stream",
     "text": [
      "True code block\n",
      "True and Not False code block\n",
      "True or False code block\n",
      "Confusing code block\n",
      "De Morgan's law of confusing code block\n"
     ]
    }
   ],
   "source": [
    "// All of the boolean expressions below evaluate to true\n",
    "\n",
    "if (true) {\n",
    "    System.out.println(\"True code block\");\n",
    "}\n",
    "\n",
    "if (true && !false) {\n",
    "    System.out.println(\"True and Not False code block\");\n",
    "}\n",
    "\n",
    "if (true || false) {\n",
    "    System.out.println(\"True or False code block\");\n",
    "}\n",
    "\n",
    "if ((true && !false) && (true || false)) {\n",
    "    System.out.println(\"Confusing code block\");\n",
    "}\n",
    "\n",
    "if (!((false || !true) || (false && true))) {\n",
    "    System.out.println(\"De Morgan's law in my head of confusing code block\");\n",
    "}\n",
    "\n",
    "// Can any of the above expression be simplified?  What would they simplify to?  Are any of these expressions useful?\n"
   ]
  },
  {
   "cell_type": "markdown",
   "metadata": {},
   "source": [
    " ## Hacks\n",
    "Build your own Jupyter Notebook lesson on ifs\n",
    "- Explain if, if-else, and if-elseif-else.\n",
    "- Make a markdown block before you sample code\n",
    "- Comment in code to describe each decision \n",
    "\n",
    "Add to lesson switch-case\n",
    "1. Create and if-elseif-elseif-elseif-else statement, 5 or more conditions. \n",
    "2. Covert the 5 or more decisions to a switch-case-case-case-case-otherwise.\n",
    "3. Make a markdown block before each code example\n",
    "4. Comment/establish a style of comments for your if-elseif and switch-case code blocks\n",
    "\n",
    "Finish lesson with De Morgan's law\n",
    "1. Describe De Morgan's law\n",
    "2. Illustrate De Morgan's law\n",
    "3. Show some code running that shows understanding\n",
    "\n",
    "Resources, it is really time to show you can find resources beyond the Teacher.   Code/Code/Coding is everywhere, find something that helps.\n",
    "1. [Code.org](https://studio.code.org/s/csa4-2022?section_id=4160330) Unitt 4 section 1 to 5 can help with some ideas.\n",
    "2. [AP Classroom unit 3](https://apclassroom.collegeboard.org/8/home?unit=3) has outline for unit\n",
    "3. [CodeAcademy](https://www.codecademy.com/learn/learn-java/modules/learn-java-conditionals-control-flow-u) has some online resources"
   ]
  },
  {
   "cell_type": "markdown",
   "metadata": {},
   "source": [
    "## Personal hacks\n",
    "\n",
    "### If Statements\n",
    "\n",
    "If statements are, in my opinion, at the core of all conditional statements. Essentially, whatever comes inside if statements only runs if the \n",
    "expression inside the if statement evaluates to be true. Otherwise, the code inside will not run and will move on. \n",
    "\n",
    "If the programmer wants to create other code to run in a false case, then they have the else statement to use in an if-else statement. Else \n",
    "statements only run if the if statement evalulates to false.\n",
    "\n",
    "If statements can be chained in succession using the if-elseif-else statement. The if and else components work exactly the same, but the elseif \n",
    "part can be thought of as a combination between the two. Elseif only runs if the if (or another elseif) satement before evalulates to false and the \n",
    "expression inside the elseif evalulates to true. These elseif statements can be stacked over and over again to handle all sorts of different cases.\n",
    "\n",
    "Taken altogether, these three statements can be used to handle every sort of conditional case imaginable. It may be a bit confusing to have it \n",
    "explained on text, but it's much easier to just use actual code to demonstrate:"
   ]
  },
  {
   "cell_type": "code",
   "execution_count": 1,
   "metadata": {
    "vscode": {
     "languageId": "java"
    }
   },
   "outputs": [
    {
     "name": "stdout",
     "output_type": "stream",
     "text": [
      "5 is greater than 1!\n",
      "5 is not greater than 9!\n",
      "numberOne is equal to 5!\n"
     ]
    }
   ],
   "source": [
    "public class ifTest {\n",
    "    \n",
    "    public static void main(String[] args) {\n",
    "        \n",
    "        int numberOne = 5;\n",
    "\n",
    "        // if statement\n",
    "        // Since numberOne (5) is greater than 1, then it evaluates to be true and the print statement below runs\n",
    "        if (numberOne > 1) {\n",
    "            System.out.println(numberOne + \" is greater than 1!\");\n",
    "        }\n",
    "\n",
    "        // if-else statement\n",
    "        // Since numberOne (5) is not greater than 9, then it evalulates to be false and then the else portion runs instead of the if\n",
    "        if (numberOne > 9) {\n",
    "            System.out.println(numberOne + \" is greater than 9!\");\n",
    "        } else {\n",
    "            System.out.println(numberOne + \" is not greater than 9!\");\n",
    "        }\n",
    "        \n",
    "        // if-elseif-else statement\n",
    "        // numberOne (5) is not equal to 1, so the else-if runs next. Since numberOne (5) is equal to 5, then the code under else-if runs\n",
    "        if (numberOne == 1) {\n",
    "            System.out.println(\"numberOne is equal to 1!\");\n",
    "        } else if (numberOne == 5) {\n",
    "            System.out.println(\"numberOne is equal to 5!\");\n",
    "        } else {\n",
    "            System.out.println(\"I don't know what numberOne is!\");\n",
    "        }\n",
    "\n",
    "    }\n",
    "}\n",
    "\n",
    "ifTest.main(null);"
   ]
  },
  {
   "cell_type": "markdown",
   "metadata": {},
   "source": [
    "### A lot of elseif statements\n",
    "\n",
    "You can see in the below example how a lot of elseif statements can be chained together for something like an if-elseif-elseif-elseif-elseif-else \n",
    "statement. The example below may be quite long, but there are other things you can do to simplify this:"
   ]
  },
  {
   "cell_type": "code",
   "execution_count": 9,
   "metadata": {
    "vscode": {
     "languageId": "java"
    }
   },
   "outputs": [
    {
     "name": "stdout",
     "output_type": "stream",
     "text": [
      "The favorite color is green!\n"
     ]
    }
   ],
   "source": [
    "public class elseifStatements {\n",
    "\n",
    "    public static void main(String[] args) {\n",
    "        \n",
    "        String favoriteColor = \"green\";\n",
    "\n",
    "        if (favoriteColor.equals(\"red\")) {\n",
    "            System.out.println(\"The favorite color is red!\");\n",
    "        } else if (favoriteColor.equals(\"orange\")) {\n",
    "            System.out.println(\"The favorite color is orange!\");\n",
    "        } else if (favoriteColor.equals(\"yellow\")) {\n",
    "            System.out.println(\"The favorite color is yellow!\");\n",
    "        } else if (favoriteColor.equals(\"green\")) {\n",
    "            System.out.println(\"The favorite color is green!\");\n",
    "        } else if (favoriteColor.equals(\"blue\")) {\n",
    "            System.out.println(\"The favorite color is blue!\");\n",
    "        } else if (favoriteColor.equals(\"purple\")) {\n",
    "            System.out.println(\"The favorite color is purple!\");\n",
    "        } else {\n",
    "            System.out.println(\"I don't know what the favorite color is!\");\n",
    "        }\n",
    "    }\n",
    "}\n",
    "\n",
    "elseifStatements.main(null);"
   ]
  },
  {
   "cell_type": "markdown",
   "metadata": {},
   "source": [
    "### Switch Cases\n",
    "\n",
    "Switch cases are similar to if statements in that they run certain lines of code when certain conditions are true. However, switch cases only run \n",
    "when a prespecified variable is equal to whatever is given in each of the cases. \n",
    "\n",
    "Why would I use this? Well, they can be more efficient than writing a ton of elseif statements.\n",
    "\n",
    "This is also a bit confusing to explain through text, so here's another example (note how break is used to prevent everything below it from running):"
   ]
  },
  {
   "cell_type": "code",
   "execution_count": 2,
   "metadata": {
    "vscode": {
     "languageId": "java"
    }
   },
   "outputs": [
    {
     "name": "stdout",
     "output_type": "stream",
     "text": [
      "The favorite color is green!\n"
     ]
    }
   ],
   "source": [
    "public class switchTest {\n",
    "\n",
    "    public static void main(String[] args) {\n",
    "\n",
    "        String favoriteColor = \"green\";\n",
    "\n",
    "        switch (favoriteColor) {\n",
    "            case \"red\":\n",
    "                System.out.println(\"The favorite color is red!\");\n",
    "                break;\n",
    "            case \"orange\":\n",
    "                System.out.println(\"The favorite color is orange!\");\n",
    "                break;\n",
    "            case \"yellow\":\n",
    "                System.out.println(\"The favorite color is yellow!\");\n",
    "                break;\n",
    "            case \"green\":\n",
    "                System.out.println(\"The favorite color is green!\");\n",
    "                break;\n",
    "            case \"blue\":\n",
    "                System.out.println(\"The favorite color is blue!\");\n",
    "                break;\n",
    "            case \"purple\":\n",
    "                System.out.println(\"The favorite color is purple!\");\n",
    "                break;\n",
    "            default:\n",
    "                System.out.println(\"I don't know what the favorite color is!\");\n",
    "\n",
    "        }\n",
    "\n",
    "\n",
    "    }\n",
    "}\n",
    "\n",
    "switchTest.main(null);"
   ]
  },
  {
   "cell_type": "markdown",
   "metadata": {},
   "source": [
    "### De Morgan's Law\n",
    "\n",
    "De Morgan's Law is a bit more mathematical in nature, dealing with set theory, so I'll try my best to describe it here.\n",
    "\n",
    "De Morgan's Law basically explains how certain boolean statements can be rewritten as different expressions, yet essentially be the same. \n",
    "More specifically, it states that \"The complement of the union of two sets is the same as the intersection of their complements\" or \"The \n",
    "complement of the intersection of two sets is the same as the union of their complements\".\n",
    "\n",
    "What the heck does that mean? An easier way to think about it would be like this:\n",
    "- not (A or B) = (not A) and (not B)\n",
    "- not (A and B) = (not A) or (not B)\n",
    "\n",
    "In a more formalalized, mathematical way:\n",
    "\n",
    "![Set Theory Stuff](https://wikimedia.org/api/rest_v1/media/math/render/svg/b55ab78fcd4c3b617df4e2195d487dda13c09e7d)\n",
    "\n",
    "But even with all that text, it's still pretty confusing, right? So it's probably best to visualize it using an actual image. This one \n",
    "I found online pretty much summarizes it best:\n",
    "\n",
    "![More Set Theory Stuff](https://www.onlinemathlearning.com/image-files/de-morgans-law.png)\n",
    "\n",
    "The green shaded area is basically what's being covered in each equality. Both sides cover the same thing.\n",
    "\n",
    "Finally, let's go through an example of how this would apply in code. Essentially, we'll use a few variables to make a whole bunch of complicated \n",
    "boolean statements that actually mean the same exact thing:"
   ]
  },
  {
   "cell_type": "code",
   "execution_count": 8,
   "metadata": {
    "vscode": {
     "languageId": "java"
    }
   },
   "outputs": [
    {
     "name": "stdout",
     "output_type": "stream",
     "text": [
      "false\n",
      "false\n",
      "true\n",
      "true\n"
     ]
    }
   ],
   "source": [
    "public class deMorgansLaw {\n",
    "\n",
    "    public static void main(String[] args) {\n",
    "        boolean a = false;\n",
    "        boolean b = true;\n",
    "\n",
    "        // These two statements are exactly equal according to De Morgan's law\n",
    "        // In this case, the only way to yield an output of true would be to have both a and b to be false (change it to check)\n",
    "        System.out.println(!(a || b));\n",
    "        System.out.println(!a && !b);\n",
    "\n",
    "        boolean c = true;\n",
    "        boolean d = false;\n",
    "\n",
    "        // These two statements are also exactly equal according to De Morgan's Law\n",
    "        // In this case, the only way to yield an output of false would be to have both c and d to be true (change it to check)\n",
    "        System.out.println(!(c && d));\n",
    "        System.out.println(!c || !d);\n",
    "        \n",
    "    }\n",
    "}\n",
    "\n",
    "deMorgansLaw.main(null);"
   ]
  }
 ],
 "metadata": {
  "kernelspec": {
   "display_name": "Java",
   "language": "java",
   "name": "java"
  },
  "language_info": {
   "codemirror_mode": "java",
   "file_extension": ".jshell",
   "mimetype": "text/x-java-source",
   "name": "Java",
   "pygments_lexer": "java",
   "version": "17.0.4+8"
  },
  "orig_nbformat": 4,
  "vscode": {
   "interpreter": {
    "hash": "8b82d5009c68ba5675978267e2b13a671f2a7143d61273c5a3813c97e0b2493d"
   }
  }
 },
 "nbformat": 4,
 "nbformat_minor": 2
}
