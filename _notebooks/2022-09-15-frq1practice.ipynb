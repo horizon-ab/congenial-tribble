{
 "cells": [
  {
   "cell_type": "markdown",
   "metadata": {},
   "source": [
    "# FRQ 1 Practice\n",
    "> Practicing the first FRQ for the AP CSA Exam\n",
    "\n",
    "- title: FRQ 1 Practice\n",
    "- toc: true\n",
    "- categories: [college board]\n",
    "- author: Bailey Say"
   ]
  },
  {
   "cell_type": "markdown",
   "metadata": {},
   "source": [
    "## The First FRQ\n",
    "\n",
    "The first FRQ primarily focuses around methods and control structures, which isn't too bad as far as I'm concerned. Methods are about the specific functions an object can perform, whereas control structures are mainly about the if, elseif, and else statemements that can branch a program out into different pathways. These are quite fundamental concepts for the Java language, so I think I know them pretty well already.\n",
    "\n",
    "However, it's never a good idea to underestimate the difficulty of these questions, as these can easily make or break a 5 on the exam. That's why I'll be practicing them today in this blog."
   ]
  },
  {
   "cell_type": "markdown",
   "metadata": {},
   "source": [
    "## 2021\n",
    "\n",
    "This FRQ is really annoying to put in, so I'll just link it [here](https://apcentral.collegeboard.org/media/pdf/ap21-frq-computer-science-a.pdf)\n",
    "\n",
    "The code block below has my work for both part a and b, with an additional main() function to test solutions (which is not there on the exam unfortunately)."
   ]
  },
  {
   "cell_type": "code",
   "execution_count": 40,
   "metadata": {
    "vscode": {
     "languageId": "java"
    }
   },
   "outputs": [
    {
     "name": "stdout",
     "output_type": "stream",
     "text": [
      "49\n",
      "121\n",
      "nation\n",
      "con\n"
     ]
    }
   ],
   "source": [
    "public class WordMatch\n",
    "{\n",
    "    /** The secret string. */\n",
    "    private String secret;\n",
    "    /** Constructs a WordMatch object with the given secret string of lowercase letters. */\n",
    "    public WordMatch(String word)\n",
    "    {\n",
    "    /* implementation not shown */\n",
    "        this.secret = word;\n",
    "        \n",
    "    }\n",
    "    /** Returns a score for guess, as described in part (a).\n",
    "    * Precondition: 0 < guess.length() <= secret.length()\n",
    "    */\n",
    "\n",
    "    // START OF SOLUTION A\n",
    "    public int scoreGuess(String guess) {\n",
    "        int occurrences = 0;\n",
    "        for (int i = 0; i <= secret.length() - guess.length(); i++) {\n",
    "            if (secret.substring(i, i + guess.length()).contains(guess)) {\n",
    "                occurrences++;\n",
    "                i += guess.length() - 1;\n",
    "            }\n",
    "        }\n",
    "        return occurrences * guess.length() * guess.length();\n",
    "    }\n",
    "    // END OF SOLUTION A\n",
    "\n",
    "    // START OF SOLUTION B\n",
    "    public String findBetterGuess(String guess1, String guess2)\n",
    "    { /* to be implemented in part (b) */ \n",
    "        if (scoreGuess(guess1) > scoreGuess(guess2)) {\n",
    "            return guess1;\n",
    "        } else if (scoreGuess(guess2) > scoreGuess(guess1)) {\n",
    "            return guess2;\n",
    "        } else if (guess1.compareTo(guess2) > 0) {\n",
    "                return guess1;\n",
    "        } else {\n",
    "                return guess2;\n",
    "            }\n",
    "        }\n",
    "    // END OF SOLUTION B\n",
    "\n",
    "    public static void main(String[] args) {\n",
    "\n",
    "        WordMatch testA = new WordMatch(\"mississippi\");\n",
    "        System.out.println(testA.scoreGuess(\"issippi\"));\n",
    "        System.out.println(testA.scoreGuess(\"mississippi\"));\n",
    "\n",
    "        WordMatch testB = new WordMatch(\"concatenation\");\n",
    "        System.out.println(testB.findBetterGuess(\"ten\" , \"nation\"));\n",
    "        System.out.println(testB.findBetterGuess(\"con\", \"cat\"));\n",
    "    }\n",
    "\n",
    "}\n",
    "\n",
    "WordMatch.main(null);"
   ]
  },
  {
   "cell_type": "markdown",
   "metadata": {},
   "source": [
    "## The Process\n",
    "\n",
    "For the first time solving an FRQ, I don't think it was too bad (although I had a pretty big handicap with being able to test solutions).\n",
    "\n",
    "The first part wasn't too hard; the iteration was a bit different but I eventually came upon a solution to my problems. Troubleshooting it was probably the hardest part though. Finding the subtle mistakes that I made in the process was painful, even with the ability to compile. \n",
    "\n",
    "The second part was pretty easy aside from one part. It was easy enough to compare the two values using the previous scoreGuess() function, but I didn't know how to compare alphabetically. I was completely stuck and I was even considering using a for loop to iterate through each letter, but eventually I realized that the compareTo() method existed for Strings, and that basically solved the problem. \n",
    "\n",
    "Overall, I think I did a decent job. Obviously it isn't good enough for the AP Exam, but I think I can definitely get the hang of creating solutions like these pretty quickly in the future. "
   ]
  },
  {
   "cell_type": "markdown",
   "metadata": {},
   "source": []
  }
 ],
 "metadata": {
  "kernelspec": {
   "display_name": "Java",
   "language": "java",
   "name": "java"
  },
  "language_info": {
   "codemirror_mode": "java",
   "file_extension": ".jshell",
   "mimetype": "text/x-java-source",
   "name": "Java",
   "pygments_lexer": "java",
   "version": "17.0.4+8"
  },
  "orig_nbformat": 4
 },
 "nbformat": 4,
 "nbformat_minor": 2
}
