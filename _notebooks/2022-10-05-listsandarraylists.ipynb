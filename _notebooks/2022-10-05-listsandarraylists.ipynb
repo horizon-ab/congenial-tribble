{
 "cells": [
  {
   "cell_type": "markdown",
   "metadata": {},
   "source": [
    "## List and ArrayLists\n",
    "\n",
    "Lists and ArrayLists are very useful programming structures in Java. They're basically the same thing, as one (ArrayList) is just an implementation of the other (List). In this example, we'll be showing how they can be used for useful things, more specifically a planner."
   ]
  },
  {
   "cell_type": "code",
   "execution_count": 15,
   "metadata": {},
   "outputs": [
    {
     "name": "stdout",
     "output_type": "stream",
     "text": [
      "--------------------------------------\n",
      "Here is your list of things to do:\n",
      "Your planner is empty!\n",
      "--------------------------------------\n",
      "What would you like to do next?\n",
      "1. Add an item\n",
      "2. Add multiple items\n",
      "3. Remove an item\n",
      "4. Remove all items\n",
      "-1. Quit\n",
      "--------------------------------------\n",
      "Enter your choice: \n",
      "Enter your item: \n"
     ]
    },
    {
     "ename": "EvalException",
     "evalue": "Scanner closed",
     "output_type": "error",
     "traceback": [
      "\u001b[1m\u001b[31m---------------------------------------------------------------------------\u001b[0m",
      "\u001b[1m\u001b[31mjava.lang.IllegalStateException: Scanner closed\u001b[0m",
      "\u001b[1m\u001b[31m\tat java.base/java.util.Scanner.ensureOpen(Scanner.java:1150)\u001b[0m",
      "\u001b[1m\u001b[31m\tat java.base/java.util.Scanner.findWithinHorizon(Scanner.java:1781)\u001b[0m",
      "\u001b[1m\u001b[31m\tat java.base/java.util.Scanner.nextLine(Scanner.java:1649)\u001b[0m",
      "\u001b[1m\u001b[31m\tat Planner.<init>(#19:1)\u001b[0m",
      "\u001b[1m\u001b[31m\tat Planner.main(#19:1)\u001b[0m",
      "\u001b[1m\u001b[31m\tat .(#27:1)\u001b[0m"
     ]
    }
   ],
   "source": [
    "import java.util.ArrayList;\n",
    "import java.util.Scanner;\n",
    "\n",
    "public class Planner {\n",
    "\n",
    "    private ArrayList<String> planner = new ArrayList<String>();\n",
    "\n",
    "    public Planner() {\n",
    "        Scanner input = new Scanner(System.in);\n",
    "        int choice;\n",
    "        boolean proceed = true;\n",
    "\n",
    "        while (proceed) {\n",
    "\n",
    "            showPlanner();\n",
    "            System.out.println(\"Enter your choice: \");\n",
    "            choice = input.nextInt();\n",
    "            input.close();\n",
    "\n",
    "            switch (choice) {\n",
    "                case 1:\n",
    "                    System.out.println(\"Enter your item: \");\n",
    "                    String newItem = input.nextLine();\n",
    "                    planner.add(newItem);\n",
    "                    input.close();\n",
    "                    break;\n",
    "                case 2:\n",
    "                    break;\n",
    "                case 3:\n",
    "                    break;\n",
    "                case 4:\n",
    "                    break;\n",
    "                case -1:\n",
    "                    proceed = false;\n",
    "                    break;\n",
    "                default:\n",
    "                    System.out.println(\"Please input a valild option\");\n",
    "\n",
    "            }\n",
    "        }\n",
    "        input.close();\n",
    "    }\n",
    "\n",
    "    public void showPlanner() {\n",
    "        System.out.println(\"--------------------------------------\");\n",
    "        System.out.println(\"Here is your list of things to do:\");\n",
    "        if (!planner.isEmpty() ) {\n",
    "            for (int i = 0; i < planner.size(); i++) {\n",
    "                System.out.println((i + 1) + \". \" + planner.get(i));\n",
    "            }\n",
    "        } else {\n",
    "            System.out.println(\"Your planner is empty!\");\n",
    "        }\n",
    "        System.out.println(\"--------------------------------------\");\n",
    "        System.out.println(\"What would you like to do next?\");\n",
    "        System.out.println(\"1. Add an item\");\n",
    "        System.out.println(\"2. Add multiple items\");\n",
    "        System.out.println(\"3. Remove an item\");\n",
    "        System.out.println(\"4. Remove all items\");\n",
    "        System.out.println(\"-1. Quit\");\n",
    "        System.out.println(\"--------------------------------------\");\n",
    "    }\n",
    "\n",
    "    public void addItem() {\n",
    "\n",
    "    }\n",
    "\n",
    "    public void addMultipleItems() {\n",
    "\n",
    "    }\n",
    "\n",
    "    public void removeItem() {\n",
    "\n",
    "    }\n",
    "\n",
    "    public void removeAllItems() {\n",
    "        \n",
    "    }\n",
    "\n",
    "    public static void main(String[] args) {\n",
    "        Planner test = new Planner();\n",
    "    }\n",
    "}\n",
    "\n",
    "Planner.main(null);"
   ]
  }
 ],
 "metadata": {
  "kernelspec": {
   "display_name": "Java",
   "language": "java",
   "name": "java"
  },
  "language_info": {
   "codemirror_mode": "java",
   "file_extension": ".jshell",
   "mimetype": "text/x-java-source",
   "name": "java",
   "pygments_lexer": "java",
   "version": "17.0.4+8"
  },
  "orig_nbformat": 4,
  "vscode": {
   "interpreter": {
    "hash": "b0fa6594d8f4cbf19f97940f81e996739fb7646882a419484c72d19e05852a7e"
   }
  }
 },
 "nbformat": 4,
 "nbformat_minor": 2
}
