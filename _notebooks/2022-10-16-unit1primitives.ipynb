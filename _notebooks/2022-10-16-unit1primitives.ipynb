{
 "cells": [
  {
   "cell_type": "markdown",
   "metadata": {},
   "source": [
    "# Unit 1 Primitives\n",
    "\n",
    "> Going over Unit 1 of College Board APCSA"
   ]
  },
  {
   "cell_type": "markdown",
   "metadata": {},
   "source": [
    "## Primitives\n",
    "\n",
    "Vocab:\n",
    "- String literals - String created using double quoted String\n",
    "- Literals - String created by calling the constructor\n",
    "- Exceptions - errors thrown by the program\n",
    "- Syntax error - error created by bad code syntax\n",
    "- Logic error - error created by impossibilities during runtime (i.e. 0/0)\n",
    "- Overflow error - error created by amounts of data too large for certain dataypes to hold (i.e. floats with too many decimals)\n",
    "- Operation precedence - some operators are prioritized (use PEMDAS)\n",
    "\n",
    "Primitives are datatypes used in Java as some of its most basic features.\n",
    "\n",
    "Compared with non-primitives:\n",
    "- Predefined vs. defined by the programmer\n",
    "- Lowercase vs. uppercase\n",
    "- Can't call methods vs. can call methods\n",
    "- Must have a value vs. can be null\n",
    "- Different sizes (depending on primitive type) vs. same size\n",
    "\n",
    "Some of the most basic primitives include:\n",
    "- Booleans\n",
    "- Ints\n",
    "- Doubles\n",
    "- Chars\n",
    "- Etc.\n",
    "\n",
    "They have particular naming conventions (lowercase, no special characters/keywords) and can also be type casted (manually or automatically)\n",
    "\n",
    "They can use numerous operators to manipulate these types in differing ways depending on the primitive:\n",
    "- +, -, *, /, %, etc.\n",
    "- ++ and -- are special incrementing operators, which is equal to x = x + 1 and x = x - 1\n",
    "\n",
    "\n"
   ]
  },
  {
   "cell_type": "code",
   "execution_count": 4,
   "metadata": {},
   "outputs": [
    {
     "name": "stdout",
     "output_type": "stream",
     "text": [
      "42\n",
      "78\n",
      "2.718\n",
      "1.1179999999999999\n"
     ]
    }
   ],
   "source": [
    "public class Primitives {\n",
    "\n",
    "    public static void main(String[] args) {\n",
    "\n",
    "        boolean bool = true;\n",
    "        int num1 = 42;\n",
    "        double num2 = 2.718;\n",
    "\n",
    "        System.out.println(num1);\n",
    "        num1 = num1 + 36;\n",
    "        System.out.println(num1);\n",
    "\n",
    "        System.out.println(num2);\n",
    "        num2 = num2 % 1.6;\n",
    "        System.out.println(num2);\n",
    "    }\n",
    "}\n",
    "\n",
    "Primitives.main(null);"
   ]
  },
  {
   "cell_type": "markdown",
   "metadata": {},
   "source": [
    "## Homework"
   ]
  },
  {
   "cell_type": "code",
   "execution_count": 4,
   "metadata": {},
   "outputs": [
    {
     "name": "stdout",
     "output_type": "stream",
     "text": [
      "Is the final in the tests category?\n"
     ]
    }
   ],
   "source": [
    "import java.util.Scanner;\n",
    "\n",
    "public class GradeCalculator {\n",
    "\n",
    "    public static void separate() {\n",
    "        Scanner input = new Scanner(System.in);\n",
    "        System.out.println(\"What is your current grade?\");\n",
    "        double grade = input.nextDouble();\n",
    "        System.out.println(\"How much percent of your grade is the final?\");\n",
    "        double percent = \n",
    "    }\n",
    "\n",
    "    public static void test() {\n",
    "        Scanner input = new Scanner(System.in);\n",
    "    }\n",
    "\n",
    "    public static void main(String[] args) {\n",
    "        Scanner input = new Scanner(System.in);\n",
    "        System.out.println(\"Is the final in the tests category?\");\n",
    "        boolean isTest = input.nextBoolean();\n",
    "        input.close();\n",
    "        if (isTest) {\n",
    "            test();\n",
    "        } else {\n",
    "            separate();\n",
    "        }\n",
    "    }\n",
    "\n",
    "}\n",
    "\n",
    "GradeCalculator.main(null);"
   ]
  }
 ],
 "metadata": {
  "kernelspec": {
   "display_name": "Java",
   "language": "java",
   "name": "java"
  },
  "language_info": {
   "codemirror_mode": "java",
   "file_extension": ".jshell",
   "mimetype": "text/x-java-source",
   "name": "java",
   "pygments_lexer": "java",
   "version": "17.0.4+8"
  },
  "orig_nbformat": 4,
  "vscode": {
   "interpreter": {
    "hash": "b0fa6594d8f4cbf19f97940f81e996739fb7646882a419484c72d19e05852a7e"
   }
  }
 },
 "nbformat": 4,
 "nbformat_minor": 2
}
