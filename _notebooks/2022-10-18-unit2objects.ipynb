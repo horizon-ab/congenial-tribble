{
 "cells": [
  {
   "cell_type": "markdown",
   "metadata": {},
   "source": [
    "# Unit 2 Objects"
   ]
  },
  {
   "cell_type": "markdown",
   "metadata": {},
   "source": [
    "## FRQ 2021"
   ]
  },
  {
   "cell_type": "code",
   "execution_count": null,
   "metadata": {},
   "outputs": [],
   "source": [
    "public class WordMatch\n",
    "{\n",
    "    /** The secret string. */\n",
    "    private String secret;\n",
    "    /** Constructs a WordMatch object with the given secret string of lowercase letters. */\n",
    "    public WordMatch(String word)\n",
    "    {\n",
    "    /* implementation not shown */\n",
    "        this.secret = word;\n",
    "        \n",
    "    }\n",
    "    /** Returns a score for guess, as described in part (a).\n",
    "    * Precondition: 0 < guess.length() <= secret.length()\n",
    "    */\n",
    "\n",
    "    // START OF SOLUTION A\n",
    "    public int scoreGuess(String guess) {\n",
    "\n",
    "        // Tracks number of times the substring appears\n",
    "        int occurrences = 0;\n",
    "\n",
    "        // secret.length() - guess.length() to avoid index overflow with substring later on\n",
    "        for (int i = 0; i <= secret.length() - guess.length(); i++) {\n",
    "\n",
    "            // Checks if the substring is equal to the guess\n",
    "            if (secret.substring(i, i + guess.length()).contains(guess)) {\n",
    "                occurrences++;\n",
    "\n",
    "                // Moves forward by guess.length() - 1 to move forward in the string (and avoid repeats)\n",
    "                // -1 is included because i++ \n",
    "                i += guess.length() - 1;\n",
    "            }\n",
    "        }\n",
    "        return occurrences * guess.length() * guess.length();\n",
    "    }\n",
    "    // END OF SOLUTION A\n",
    "\n",
    "    // START OF SOLUTION B\n",
    "    public String findBetterGuess(String guess1, String guess2)\n",
    "    { /* to be implemented in part (b) */ \n",
    "        if (scoreGuess(guess1) > scoreGuess(guess2)) {\n",
    "            return guess1;\n",
    "        } else if (scoreGuess(guess2) > scoreGuess(guess1)) {\n",
    "            return guess2;\n",
    "        } else if (guess1.compareTo(guess2) > 0) {\n",
    "                return guess1;\n",
    "        } else {\n",
    "                return guess2;\n",
    "            }\n",
    "        }\n",
    "    // END OF SOLUTION B\n",
    "\n",
    "    public static void main(String[] args) {\n",
    "\n",
    "        WordMatch testA = new WordMatch(\"mississippi\");\n",
    "        System.out.println(testA.scoreGuess(\"issippi\"));\n",
    "        System.out.println(testA.scoreGuess(\"mississippi\"));\n",
    "\n",
    "        WordMatch testB = new WordMatch(\"concatenation\");\n",
    "        System.out.println(testB.findBetterGuess(\"ten\" , \"nation\"));\n",
    "        System.out.println(testB.findBetterGuess(\"con\", \"cat\"));\n",
    "    }\n",
    "\n",
    "}\n",
    "\n",
    "WordMatch.main(null);"
   ]
  },
  {
   "cell_type": "markdown",
   "metadata": {},
   "source": [
    "## Test\n",
    "\n",
    "![Test Score](../images/unit2hwscore.png)"
   ]
  }
 ],
 "metadata": {
  "kernelspec": {
   "display_name": "Java",
   "language": "java",
   "name": "java"
  },
  "language_info": {
   "name": "java",
   "version": "3.10.7"
  },
  "orig_nbformat": 4,
  "vscode": {
   "interpreter": {
    "hash": "b0fa6594d8f4cbf19f97940f81e996739fb7646882a419484c72d19e05852a7e"
   }
  }
 },
 "nbformat": 4,
 "nbformat_minor": 2
}
