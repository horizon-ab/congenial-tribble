{
 "cells": [
  {
   "cell_type": "markdown",
   "metadata": {},
   "source": [
    "# Unit 2 Objects"
   ]
  },
  {
   "cell_type": "markdown",
   "metadata": {},
   "source": [
    "## FRQ 2021"
   ]
  },
  {
   "cell_type": "code",
   "execution_count": null,
   "metadata": {
    "vscode": {
     "languageId": "java"
    }
   },
   "outputs": [],
   "source": [
    "public class WordMatch\n",
    "{\n",
    "    /** The secret string. */\n",
    "    private String secret;\n",
    "    /** Constructs a WordMatch object with the given secret string of lowercase letters. */\n",
    "    public WordMatch(String word)\n",
    "    {\n",
    "    /* implementation not shown */\n",
    "        this.secret = word;\n",
    "        \n",
    "    }\n",
    "    /** Returns a score for guess, as described in part (a).\n",
    "    * Precondition: 0 < guess.length() <= secret.length()\n",
    "    */\n",
    "\n",
    "    // START OF SOLUTION A\n",
    "    public int scoreGuess(String guess) {\n",
    "\n",
    "        // Tracks number of times the substring appears\n",
    "        int occurrences = 0;\n",
    "\n",
    "        // secret.length() - guess.length() to avoid index overflow with substring later on\n",
    "        for (int i = 0; i <= secret.length() - guess.length(); i++) {\n",
    "\n",
    "            // Checks if the substring is equal to the guess\n",
    "            if (secret.substring(i, i + guess.length()).contains(guess)) {\n",
    "                occurrences++;\n",
    "\n",
    "                // Moves forward by guess.length() - 1 to move forward in the string (and avoid repeats)\n",
    "                // -1 is included because i++ \n",
    "                i += guess.length() - 1;\n",
    "            }\n",
    "        }\n",
    "        return occurrences * guess.length() * guess.length();\n",
    "    }\n",
    "    // END OF SOLUTION A\n",
    "\n",
    "    // START OF SOLUTION B\n",
    "    public String findBetterGuess(String guess1, String guess2)\n",
    "    { /* to be implemented in part (b) */ \n",
    "        if (scoreGuess(guess1) > scoreGuess(guess2)) {\n",
    "            return guess1;\n",
    "        } else if (scoreGuess(guess2) > scoreGuess(guess1)) {\n",
    "            return guess2;\n",
    "        } else if (guess1.compareTo(guess2) > 0) {\n",
    "                return guess1;\n",
    "        } else {\n",
    "                return guess2;\n",
    "            }\n",
    "        }\n",
    "    // END OF SOLUTION B\n",
    "\n",
    "    public static void main(String[] args) {\n",
    "\n",
    "        WordMatch testA = new WordMatch(\"mississippi\");\n",
    "        System.out.println(testA.scoreGuess(\"issippi\"));\n",
    "        System.out.println(testA.scoreGuess(\"mississippi\"));\n",
    "\n",
    "        WordMatch testB = new WordMatch(\"concatenation\");\n",
    "        System.out.println(testB.findBetterGuess(\"ten\" , \"nation\"));\n",
    "        System.out.println(testB.findBetterGuess(\"con\", \"cat\"));\n",
    "    }\n",
    "\n",
    "}\n",
    "\n",
    "WordMatch.main(null);"
   ]
  },
  {
   "cell_type": "markdown",
   "metadata": {},
   "source": [
    "## Test\n",
    "\n",
    "![Test Score](../images/unit2hwscore.png)"
   ]
  },
  {
   "cell_type": "markdown",
   "metadata": {},
   "source": [
    "## Extra Notes\n",
    "\n",
    "### Concatenation\n",
    "\n",
    "Concatenation is the process of combining 2 or more strings together to form 1 string. It's pretty simple to do with just the \"+\" operator between two strings (or alternatively the concat() method). Using mixed datatypes together is also pretty easy, as Java will automatically cast different datatypes into Strings when needed, making the entire process much easier. "
   ]
  },
  {
   "cell_type": "code",
   "execution_count": 5,
   "metadata": {
    "vscode": {
     "languageId": "java"
    }
   },
   "outputs": [
    {
     "name": "stdout",
     "output_type": "stream",
     "text": [
      "I have 34 cats!\n",
      "I have 34 cats!\n"
     ]
    }
   ],
   "source": [
    "int numOfCats = 34;\n",
    "String sentencep1 = \"I have \";\n",
    "\n",
    "System.out.println(\"I have 34 cats!\");\n",
    "System.out.println(\"I have \" + numOfCats + \" cats!\");"
   ]
  },
  {
   "cell_type": "markdown",
   "metadata": {},
   "source": [
    "### Math Class\n",
    "\n",
    "The Math class is one class that is useful for many programmers, especially considering its numerous mathematical operations that are necessary in a math-heavy field like computer science. One such method is Math.random(), which can allow programmers to simulate randomness (to a certain extent) by generating a random double from 0 to just below 1, which can be edited to encompass nearly any range of numbers."
   ]
  },
  {
   "cell_type": "code",
   "execution_count": 55,
   "metadata": {
    "vscode": {
     "languageId": "java"
    }
   },
   "outputs": [
    {
     "name": "stdout",
     "output_type": "stream",
     "text": [
      "5\n"
     ]
    }
   ],
   "source": [
    "// Randomnly prints out a number from 1 to 10\n",
    "System.out.println((int)(Math.random() * 10 + 1));"
   ]
  }
 ],
 "metadata": {
  "kernelspec": {
   "display_name": "Java",
   "language": "java",
   "name": "java"
  },
  "language_info": {
   "codemirror_mode": "java",
   "file_extension": ".jshell",
   "mimetype": "text/x-java-source",
   "name": "Java",
   "pygments_lexer": "java",
   "version": "17.0.4+8"
  },
  "orig_nbformat": 4,
  "vscode": {
   "interpreter": {
    "hash": "b0fa6594d8f4cbf19f97940f81e996739fb7646882a419484c72d19e05852a7e"
   }
  }
 },
 "nbformat": 4,
 "nbformat_minor": 2
}
