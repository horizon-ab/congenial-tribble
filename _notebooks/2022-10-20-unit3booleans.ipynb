{
 "cells": [
  {
   "cell_type": "markdown",
   "metadata": {},
   "source": [
    "# Unit 3 Booleans and If Statements\n",
    "\n",
    "> Going over Unit 3 of College Board APCSA"
   ]
  },
  {
   "cell_type": "markdown",
   "metadata": {},
   "source": [
    "## Homework"
   ]
  },
  {
   "cell_type": "code",
   "execution_count": 6,
   "metadata": {
    "vscode": {
     "languageId": "java"
    }
   },
   "outputs": [
    {
     "name": "stdout",
     "output_type": "stream",
     "text": [
      "The roots are -0.3819660112501051 and -2.618033988749895.\n"
     ]
    }
   ],
   "source": [
    "int a = 1;\n",
    "int b = 3;\n",
    "int c = 1;\n",
    "\n",
    "double d = Math.pow(b, 2) - 4 * a * c;\n",
    "\n",
    "if (d > 0) {\n",
    "    double root1 = (-b + Math.sqrt(d)) / (2 * a);\n",
    "    double root2 = (-b - Math.sqrt(d)) / (2 * a);\n",
    "    System.out.println(\"The roots are \" + root1 + \" and \" + root2 + \".\");\n",
    "} else if (d == 0) {\n",
    "    double root = -b / (2 * a);\n",
    "    System.out.println(\"The only root is \" + root + \".\");\n",
    "} else {\n",
    "    System.out.println(\"The roots are imaginary.\");\n",
    "}\n",
    "\n",
    "\n"
   ]
  },
  {
   "cell_type": "code",
   "execution_count": 10,
   "metadata": {
    "vscode": {
     "languageId": "java"
    }
   },
   "outputs": [
    {
     "name": "stdout",
     "output_type": "stream",
     "text": [
      "positive\n"
     ]
    }
   ],
   "source": [
    "double input = 25;\n",
    "\n",
    "if (input == 0) {\n",
    "    System.out.println(\"zero\");\n",
    "} else if (input > 0) {\n",
    "    if (Math.abs(input) < 1) {\n",
    "        System.out.println(\"small positive\");\n",
    "    } else if (Math.abs(input) > 1000000) {\n",
    "        System.out.println(\"large positive\");\n",
    "    } else {\n",
    "        System.out.println(\"positive\");\n",
    "    }\n",
    "} else if (input < 0) {\n",
    "    if (Math.abs(input) < 1) {\n",
    "        System.out.println(\"small negative\");\n",
    "    } else if (Math.abs(input) > 1000000) {\n",
    "        System.out.println(\"large negative\");\n",
    "    } else {\n",
    "        System.out.println(\"negative\");\n",
    "    }\n",
    "}\n"
   ]
  },
  {
   "cell_type": "code",
   "execution_count": 1,
   "metadata": {
    "vscode": {
     "languageId": "java"
    }
   },
   "outputs": [
    {
     "name": "stdout",
     "output_type": "stream",
     "text": [
      "Input floating-point number: Input floating-point another number: They are the same up to three decimal places\n"
     ]
    }
   ],
   "source": [
    "import java.util.Scanner;\n",
    "Scanner in = new Scanner(System.in);\n",
    "\n",
    "System.out.print(\"Input floating-point number: \");\n",
    "double x = in.nextDouble();\n",
    "System.out.print(\"Input floating-point another number: \");\n",
    "double y = in.nextDouble();\n",
    "\n",
    "x = Math.round(x * 1000);\n",
    "x = x / 1000;\n",
    "\n",
    "y = Math.round(y * 1000);\n",
    "y = y / 1000;\n",
    "\n",
    "if (x == y)\n",
    "{\n",
    "    System.out.println(\"They are the same up to three decimal places\");\n",
    "}\n",
    "else\n",
    "{\n",
    "    System.out.println(\"They are different\");\n",
    "}"
   ]
  },
  {
   "cell_type": "code",
   "execution_count": 2,
   "metadata": {
    "vscode": {
     "languageId": "java"
    }
   },
   "outputs": [
    {
     "name": "stdout",
     "output_type": "stream",
     "text": [
      "Input an alphabet: Input letter is Consonant\n"
     ]
    }
   ],
   "source": [
    "import java.util.Scanner;\n",
    "Scanner in = new Scanner(System.in);\n",
    "\n",
    "System.out.print(\"Input an alphabet: \");\n",
    "String input = in.next().toLowerCase();\n",
    "\n",
    "boolean uppercase = input.charAt(0) >= 65 && input.charAt(0) <= 90;\n",
    "boolean lowercase = input.charAt(0) >= 97 && input.charAt(0) <= 122;\n",
    "boolean vowels = input.equals(\"a\") || input.equals(\"e\") || input.equals(\"i\")\n",
    "        || input.equals(\"o\") || input.equals(\"u\");\n",
    "\n",
    "if (input.length() > 1)\n",
    "{\n",
    "    System.out.println(\"Error. Not a single character.\");\n",
    "}\n",
    "else if (!(uppercase || lowercase))\n",
    "{\n",
    "    System.out.println(\"Error. Not a letter. Enter uppercase or lowercase letter.\");\n",
    "}\n",
    "else if (vowels)\n",
    "{\n",
    "    System.out.println(\"Input letter is Vowel\");\n",
    "}\n",
    "else\n",
    "{\n",
    "    System.out.println(\"Input letter is Consonant\");\n",
    "}"
   ]
  },
  {
   "cell_type": "code",
   "execution_count": 3,
   "metadata": {
    "vscode": {
     "languageId": "java"
    }
   },
   "outputs": [
    {
     "name": "stdout",
     "output_type": "stream",
     "text": [
      "The first 10 natural numbers are:\n",
      "\n",
      "1\n",
      "2\n",
      "3\n",
      "4\n",
      "5\n",
      "6\n",
      "7\n",
      "8\n",
      "9\n",
      "10\n",
      "\n",
      "\n"
     ]
    }
   ],
   "source": [
    "int i;\n",
    "System.out.println (\"The first 10 natural numbers are:\\n\");\n",
    "for (i=1;i<=10;i++)\n",
    "{      \n",
    "    System.out.println (i);\n",
    "}\n",
    "System.out.println (\"\\n\");"
   ]
  },
  {
   "cell_type": "code",
   "execution_count": 4,
   "metadata": {
    "vscode": {
     "languageId": "java"
    }
   },
   "outputs": [
    {
     "name": "stdout",
     "output_type": "stream",
     "text": [
      "Input the 5 numbers : \n",
      "The sum of 5 no is : 20\n",
      "The Average is : 4.0\n"
     ]
    }
   ],
   "source": [
    "import java.util.Scanner;\n",
    "\n",
    "int i,n=0,s=0;\n",
    "double avg;\n",
    "{\n",
    "    \n",
    "    System.out.println(\"Input the 5 numbers : \");  \n",
    "        \n",
    "}\n",
    "    for (i=0;i<5;i++)\n",
    "    {\n",
    "        Scanner in = new Scanner(System.in);\n",
    "        n = in.nextInt();\n",
    "        \n",
    "    s +=n;\n",
    "}\n",
    "avg=s/5;\n",
    "System.out.println(\"The sum of 5 no is : \" +s+\"\\nThe Average is : \" +avg);"
   ]
  },
  {
   "cell_type": "code",
   "execution_count": 5,
   "metadata": {
    "vscode": {
     "languageId": "java"
    }
   },
   "outputs": [
    {
     "name": "stdout",
     "output_type": "stream",
     "text": [
      "Input the number(Table to be calculated): Input number of terms : \n",
      "\n",
      "5 X 0 = 0\n",
      "5 X 1 = 5\n",
      "5 X 2 = 10\n",
      "5 X 3 = 15\n",
      "5 X 4 = 20\n",
      "5 X 5 = 25\n"
     ]
    }
   ],
   "source": [
    "import java.util.Scanner;\n",
    "\n",
    "int j,n;\n",
    "\n",
    "System.out.print(\"Input the number(Table to be calculated): \");\n",
    "{\n",
    "System.out.print(\"Input number of terms : \");\n",
    "Scanner in = new Scanner(System.in);\n",
    "        n = in.nextInt();\n",
    "\n",
    "System.out.println (\"\\n\");\n",
    "for(j=0;j<=n;j++)\n",
    "\n",
    "    System.out.println(n+\" X \"+j+\" = \" +n*j);\n",
    "}"
   ]
  },
  {
   "cell_type": "code",
   "execution_count": 7,
   "metadata": {
    "vscode": {
     "languageId": "java"
    }
   },
   "outputs": [
    {
     "name": "stdout",
     "output_type": "stream",
     "text": [
      "Input number of rows : 1\n",
      "12\n",
      "123\n",
      "1234\n",
      "12345\n",
      "123456\n",
      "1234567\n",
      "12345678\n",
      "123456789\n"
     ]
    }
   ],
   "source": [
    "import java.util.Scanner;\n",
    "\n",
    "int i,j,n;\n",
    "System.out.print(\"Input number of rows : \");\n",
    "Scanner in = new Scanner(System.in);\n",
    "        n = in.nextInt();\n",
    "\n",
    "for(i=1;i<=n;i++)\n",
    "{\n",
    "for(j=1;j<=i;j++)\n",
    "    System.out.print(j);\n",
    "\n",
    "System.out.println(\"\");\n",
    "}"
   ]
  },
  {
   "cell_type": "code",
   "execution_count": 10,
   "metadata": {
    "vscode": {
     "languageId": "java"
    }
   },
   "outputs": [
    {
     "name": "stdout",
     "output_type": "stream",
     "text": [
      "Input number of rows : 1\n",
      "23\n",
      "456\n",
      "78910\n",
      "1112131415\n"
     ]
    }
   ],
   "source": [
    "import java.util.Scanner;\n",
    "\n",
    "int i,j,n,k=1;\n",
    "\n",
    "System.out.print(\"Input number of rows : \");\n",
    "\n",
    "Scanner in = new Scanner(System.in);\n",
    "    n = in.nextInt();\n",
    "\n",
    "for(i=1;i<=n;i++)\n",
    "{\n",
    "for(j=1;j<=i;j++)\n",
    "System.out.print(k++);\n",
    "System.out.println(\"\");\n",
    "}"
   ]
  },
  {
   "cell_type": "code",
   "execution_count": 11,
   "metadata": {
    "vscode": {
     "languageId": "java"
    }
   },
   "outputs": [
    {
     "name": "stdout",
     "output_type": "stream",
     "text": [
      "Input number of rows : 1 \n",
      "2 3 \n",
      "4 5 6 \n",
      "7 8 9 10 \n",
      "11 12 13 14 15 \n",
      "16 17 18 19 20 21 \n"
     ]
    }
   ],
   "source": [
    "import java.util.Scanner;\n",
    "\n",
    "int numberOfRows;\n",
    "System.out.print(\"Input number of rows : \");\n",
    "Scanner in = new Scanner(System.in);\n",
    "        numberOfRows = in.nextInt();\n",
    "int number = 1;\n",
    "for (int row = 1; row <= numberOfRows; row++)\n",
    "{\n",
    "for (int column = 1; column <= row; column++)\n",
    "    {\n",
    "    System.out.print(number + \" \");\n",
    "    number++;\n",
    "    }\n",
    "    System.out.println();\n",
    "}"
   ]
  },
  {
   "cell_type": "markdown",
   "metadata": {},
   "source": [
    "## Extra Notes\n",
    "\n",
    "### Truth Tables\n",
    "\n",
    "![Truth Tables](https://www.realdigital.org/img/228d4788d26e286b5706f6d644ddee8b.svg)\n",
    "\n",
    "Truth tables can be used to visualize boolean conditionals. They're useful for evaluating basic boolean expressions as well as more complicated compound boolean expressions, which use multiple kinds of boolean operators inside each other. \n",
    "\n",
    "### De Morgan's Law\n",
    "\n",
    "De Morgan's Law is a bit more mathematical in nature, dealing with set theory, so I'll try my best to describe it here.\n",
    "\n",
    "De Morgan's Law basically explains how certain boolean statements can be rewritten as different expressions, yet essentially be the same. \n",
    "More specifically, it states that \"The complement of the union of two sets is the same as the intersection of their complements\" or \"The \n",
    "complement of the intersection of two sets is the same as the union of their complements\".\n",
    "\n",
    "What the heck does that mean? An easier way to think about it would be like this:\n",
    "- not (A or B) = (not A) and (not B)\n",
    "- not (A and B) = (not A) or (not B)\n",
    "\n",
    "In a more formalalized, mathematical way:\n",
    "\n",
    "![Set Theory Stuff](https://siwimulyoto.files.wordpress.com/2012/11/dmorgan-law2.gif)\n",
    "\n",
    "But even with all that text, it's still pretty confusing, right? So it's probably best to visualize it using an actual image. This one \n",
    "I found online pretty much summarizes it best:\n",
    "\n",
    "![More Set Theory Stuff](https://www.onlinemathlearning.com/image-files/de-morgans-law.png)\n",
    "\n",
    "The green shaded area is basically what's being covered in each equality. Both sides cover the same thing.\n",
    "\n",
    "Finally, let's go through an example of how this would apply in code. Essentially, we'll use a few variables to make a whole bunch of complicated compounded\n",
    "boolean expressions that actually mean the same exact thing:"
   ]
  },
  {
   "cell_type": "code",
   "execution_count": 1,
   "metadata": {
    "vscode": {
     "languageId": "java"
    }
   },
   "outputs": [
    {
     "name": "stdout",
     "output_type": "stream",
     "text": [
      "false\n",
      "false\n",
      "true\n",
      "true\n"
     ]
    }
   ],
   "source": [
    "public class deMorgansLaw {\n",
    "\n",
    "    public static void main(String[] args) {\n",
    "        boolean a = false;\n",
    "        boolean b = true;\n",
    "\n",
    "        // These two statements are exactly equal according to De Morgan's law\n",
    "        // In this case, the only way to yield an output of true would be to have both a and b to be false (change it to check)\n",
    "        System.out.println(!(a || b));\n",
    "        System.out.println(!a && !b);\n",
    "\n",
    "        boolean c = true;\n",
    "        boolean d = false;\n",
    "\n",
    "        // These two statements are also exactly equal according to De Morgan's Law\n",
    "        // In this case, the only way to yield an output of false would be to have both c and d to be true (change it to check)\n",
    "        System.out.println(!(c && d));\n",
    "        System.out.println(!c || !d);\n",
    "        \n",
    "    }\n",
    "}\n",
    "\n",
    "deMorgansLaw.main(null);"
   ]
  },
  {
   "cell_type": "markdown",
   "metadata": {},
   "source": [
    "### Comparison of Various Datatypes\n",
    "\n",
    "#### Numbers\n",
    "\n",
    "Numbers such as integers, doubles, and floats can be compared using operators found in basic math such as:\n",
    "- ==\n",
    "- !=\n",
    "- <\n",
    "- \\>\n",
    "- <=\n",
    "- \\>=\n",
    "\n",
    "### Strings\n",
    "\n",
    "Strings can be compared using the String method .equals() which checks if the objects that calls and is called are equal to each other (based on the alphanumeric contents of both)\n",
    "\n",
    "### Objects\n",
    "\n",
    "Objects can be compared with two different methods, equals() (similar to comparing Strings) and hashCode(). Without overriding any methods, equals() checks if the two objects are equal using \"==\" operator (which checks if the object references point to the same object) and hashCode() generates a unique ID for each object to check if two objects are the same. In a more practical sense, both equals() and hashCode() should be overriden to better match the specific class being used."
   ]
  },
  {
   "cell_type": "code",
   "execution_count": 9,
   "metadata": {
    "vscode": {
     "languageId": "java"
    }
   },
   "outputs": [
    {
     "name": "stdout",
     "output_type": "stream",
     "text": [
      "true\n",
      "false\n",
      "true\n",
      "false\n",
      "false\n",
      "false\n"
     ]
    }
   ],
   "source": [
    "// Numbers\n",
    "System.out.println(4 > 3);\n",
    "System.out.println(5 != 5);\n",
    "\n",
    "// Strings\n",
    "System.out.println(\"Hello World\".equals(\"Hello World\"));\n",
    "System.out.println(\"Code Code Code\".equals(\"code code code\"));\n",
    "\n",
    "// Objects\n",
    "public class Name {\n",
    "    private String first;\n",
    "\n",
    "    public Name(String first) {\n",
    "        this.first = first;\n",
    "    }\n",
    "}\n",
    "\n",
    "Name name1 = new Name(\"Bailey\");\n",
    "Name name2 = new Name(\"Bailey\");\n",
    "\n",
    "System.out.println(name1.equals(name2));\n",
    "System.out.println(name1.hashCode() == name2.hashCode());"
   ]
  }
 ],
 "metadata": {
  "kernelspec": {
   "display_name": "Java",
   "language": "java",
   "name": "java"
  },
  "language_info": {
   "codemirror_mode": "java",
   "file_extension": ".jshell",
   "mimetype": "text/x-java-source",
   "name": "Java",
   "pygments_lexer": "java",
   "version": "17.0.4+8"
  },
  "orig_nbformat": 4
 },
 "nbformat": 4,
 "nbformat_minor": 2
}
