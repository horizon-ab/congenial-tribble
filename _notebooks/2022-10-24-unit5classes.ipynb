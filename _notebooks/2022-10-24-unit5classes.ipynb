{
 "cells": [
  {
   "cell_type": "markdown",
   "metadata": {},
   "source": [
    "# Unit 5 HW\n",
    "> Gotta do HW\n",
    "\n",
    "- toc: true \n",
    "- badges: true\n",
    "- comments: true"
   ]
  },
  {
   "cell_type": "markdown",
   "metadata": {},
   "source": [
    "# Code FRQ\n",
    "\n",
    "StepTracker, object w/ parameter that defines min steps to be active\n",
    "\n",
    "methods:\n",
    "- addDailySteps, once per day\n",
    "- activeDays\n",
    "- averageSteps, returns avg num steps per day (total steps/number of days)\n",
    "\n",
    "\n",
    "Write the StepTracker class"
   ]
  },
  {
   "cell_type": "code",
   "execution_count": null,
   "metadata": {
    "vscode": {
     "languageId": "java"
    }
   },
   "outputs": [],
   "source": [
    "public class StepTracker {\n",
    "    // initialize variables\n",
    "    private int minActiveSteps\n",
    "    private int totalSteps\n",
    "    private int numTotalDays\n",
    "    private int numActiveDays\n",
    "\n",
    "    // set default construct\n",
    "    public StepTracker(int minActiveSteps) {\n",
    "        this.minActiveSteps = minActiveSteps;\n",
    "        this.totalSteps = 0;\n",
    "        this.numTotalDays = 0;\n",
    "        this.numActiveDays = 0;\n",
    "    }\n",
    "\n",
    "    // once per day, increment steps, days, and possibly active\n",
    "    public void addDailySteps(int numSteps) {\n",
    "        this.totalSteps += numSteps;\n",
    "        this.numTotalDays++;\n",
    "\n",
    "        if (numSteps >= this.minActiveSteps) {\n",
    "            this.numActiveDays++;\n",
    "        }\n",
    "    }\n",
    "\n",
    "    // getter\n",
    "    public int activeDays() {\n",
    "        return this.numActiveDays;\n",
    "    }\n",
    "\n",
    "    // calculate\n",
    "    public double averageSteps() {\n",
    "\n",
    "        if (numTotalDays == 0) {\n",
    "            return 0.0;\n",
    "        } else {\n",
    "            return (double) this.totalSteps/this.numTotalDays;\n",
    "        }\n",
    "    }\n",
    "}"
   ]
  },
  {
   "cell_type": "markdown",
   "metadata": {},
   "source": [
    "## Overview\n",
    "\n",
    "here is where the private initial variables are stored:"
   ]
  },
  {
   "cell_type": "code",
   "execution_count": null,
   "metadata": {
    "vscode": {
     "languageId": "java"
    }
   },
   "outputs": [],
   "source": [
    "private int minActiveSteps\n",
    "    private int totalSteps\n",
    "    private int numTotalDays\n",
    "    private int numActiveDays"
   ]
  },
  {
   "cell_type": "markdown",
   "metadata": {},
   "source": [
    "now for constructor: "
   ]
  },
  {
   "cell_type": "code",
   "execution_count": null,
   "metadata": {
    "vscode": {
     "languageId": "java"
    }
   },
   "outputs": [],
   "source": [
    "public StepTracker(int minActiveSteps) {\n",
    "    this.minActiveSteps = minActiveSteps;\n",
    "    this.totalSteps = 0;\n",
    "    this.numTotalDays = 0;\n",
    "    this.numActiveDays = 0;\n",
    "}"
   ]
  },
  {
   "cell_type": "markdown",
   "metadata": {},
   "source": [
    "It sets the default minactivesteps, and sets all the rest to 0."
   ]
  },
  {
   "cell_type": "code",
   "execution_count": null,
   "metadata": {
    "vscode": {
     "languageId": "java"
    }
   },
   "outputs": [],
   "source": [
    "public void addDailySteps(int numSteps) {\n",
    "    this.totalSteps += numSteps;\n",
    "    this.numTotalDays++;\n",
    "\n",
    "    if (numSteps >= this.minActiveSteps) {\n",
    "        this.numActiveDays++;\n",
    "    }\n",
    "}"
   ]
  },
  {
   "cell_type": "markdown",
   "metadata": {},
   "source": [
    "It adds the steps to the total steps, and if the steps is over the active threshold, the active days will increase."
   ]
  },
  {
   "cell_type": "code",
   "execution_count": null,
   "metadata": {
    "vscode": {
     "languageId": "java"
    }
   },
   "outputs": [],
   "source": [
    "public int activeDays() {\n",
    "    return this.numActiveDays;\n",
    "}"
   ]
  },
  {
   "cell_type": "markdown",
   "metadata": {},
   "source": [
    "just a getter"
   ]
  },
  {
   "cell_type": "code",
   "execution_count": null,
   "metadata": {
    "vscode": {
     "languageId": "java"
    }
   },
   "outputs": [],
   "source": [
    "public double averageSteps() {\n",
    "\n",
    "    if (numTotalDays == 0) {\n",
    "        return 0.0;\n",
    "    } else {\n",
    "        return (double) this.totalSteps/this.numTotalDays;\n",
    "    }\n",
    "}"
   ]
  },
  {
   "cell_type": "markdown",
   "metadata": {},
   "source": [
    "If there is 0 days, return 0 cuz thats what it says in the q\n",
    "\n",
    "otherwise return steps/days to get average steps"
   ]
  },
  {
   "cell_type": "markdown",
   "metadata": {},
   "source": [
    "## Extra Notes\n",
    "\n",
    "### Class Creation\n",
    "\n",
    "All classes should be capitalized to distinguish them from primitive datatypes (naming conventions). Constructors are necessary for each class in order for them to initialize their internal attributes, though they're special in that they do not require a return type because the object is being created in its stead.\n",
    "\n",
    "### Accessors and Mutators\n",
    "\n",
    "Accessor methods (called getters) allow code outside of the class to access private variables. They're public methods that return private attributes, allowing the class to control access to its private attributes.\n",
    "\n",
    "Mutator methods (called setters) allow code outside of the class to change private variables. They're public methods that take in a parameter (the new value) and return nothing, allowing the class to control outside code changing its private attributes.\n",
    "\n",
    "### Static variables and methods\n",
    "\n",
    "Static variables (also known as class variables) are variables that are shared by the entire class, meaning that it will be the same for every instance of an object. It's useful for when certain attributes need to be standardized for an entire class (i.e. any object of a quadrilateral class must have the number of sides set equal to 4).\n",
    "\n",
    "Static methods (also known as class methods) are methods that can be called using the class itself (along with objects of the class). Essentially, they make it easy for outside code to call certain methods specific to a class without having to instantiate a new object every single time, which can be seen in common imported Java classes such as Math. \n",
    "\n",
    "### Access modifiers\n",
    "\n",
    "\n",
    "\n",
    "### This\n",
    "\n",
    "The keyword \"this\" inside classes means that the object will reference itself as the called object, meaning that the class can make self references even before having any objects created. The most common usage of this can be seen inside of constructors, where attributes are self-referenced to instantiate values.\n",
    "\n",
    "### Main method vs. Tester methods\n",
    "\n",
    "The Main method is the method which starts the entire program along will all of its associated files. This is what actually starts the program and all of its components. Tester methods are usually public static void main(String[] args) methods inside of all the other classes in order to test that certain features inside of each class are working. As such, they are not called when the main method is run and only serves to make sure everything works."
   ]
  },
  {
   "cell_type": "code",
   "execution_count": 8,
   "metadata": {
    "vscode": {
     "languageId": "java"
    }
   },
   "outputs": [],
   "source": [
    "public class Rhombus {\n",
    "    private static int sides = 4;\n",
    "    private String name;\n",
    "    private double[] angles;\n",
    "\n",
    "    public Rhombus(String name, double[] angles) {\n",
    "        this.name = name;\n",
    "        this.angles = angles;\n",
    "    }\n",
    "\n",
    "    public String getName() {\n",
    "        return this.name;\n",
    "    }\n",
    "\n",
    "    public void setName(String name) {\n",
    "        this.name = name;\n",
    "    }\n",
    "\n",
    "    public static int getSides() {\n",
    "        return sides;\n",
    "    }\n",
    "\n",
    "    public static void main(String[] args) {\n",
    "        Rhombus timmy = new Rhombus(\"Tim\", new double[]{90, 90, 90, 90});\n",
    "    }\n",
    "}\n",
    "\n",
    "Rhombus.main(null);"
   ]
  }
 ],
 "metadata": {
  "kernelspec": {
   "display_name": "Java",
   "language": "java",
   "name": "java"
  },
  "language_info": {
   "codemirror_mode": "java",
   "file_extension": ".jshell",
   "mimetype": "text/x-java-source",
   "name": "Java",
   "pygments_lexer": "java",
   "version": "17.0.4+8"
  },
  "orig_nbformat": 4
 },
 "nbformat": 4,
 "nbformat_minor": 2
}
