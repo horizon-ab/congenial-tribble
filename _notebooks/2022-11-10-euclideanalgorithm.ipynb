{
 "cells": [
  {
   "cell_type": "markdown",
   "metadata": {},
   "source": [
    "# The Euclidean Algorithm\n",
    "> The Euclidean Algorithm is a method used to quickly determine the GCD of two integers A and B\n",
    "\n",
    "- title: The Euclidean Algorithm\n",
    "- toc: true\n",
    "- badges: false\n",
    "- categories: [personal]"
   ]
  },
  {
   "cell_type": "markdown",
   "metadata": {},
   "source": [
    "## Underlying Properties\n",
    "\n",
    "I shamelessly pulled everything from [this article](https://www.khanacademy.org/computing/computer-science/cryptography/modarithmetic/a/the-euclidean-algorithm)\n",
    "\n",
    "The Euclidean Algorithm takes advantages of two properties:\n",
    "- GCD(A, 0) = A, GCD(0, B) = B\n",
    "- Given that A = B * Q + R (B != 0, Q is an integer), then GCD(A, B) = GCD(B, R)\n",
    "\n",
    "Explaining the first property is pretty simple. Since A is obviously the greatest divisor of itself, and 0 can divide any number, therefore GCD(A, 0) = A (and similarly for B).\n",
    "\n",
    "Explaining the second property is more complicated. Suppose A - B = C.\n",
    "\n",
    "First prove that GCD(A, B) evenly divides C.\n",
    "\n",
    "> A = X * GCD(A, B)\n",
    "> \n",
    "> B = Y * GCD(A, B)\n",
    "> \n",
    "> A - B = C\n",
    "> \n",
    "> X * GCD(A, B) - Y * GCD(A, B) = C\n",
    "> \n",
    "> (X - Y) * GCD(A, B) = C\n",
    "\n",
    "Therefore GCD(A, B) evenly divides C.\n",
    "\n",
    "Next, prove that GCD(B, C) evenly divides A.\n",
    "\n",
    "> A - B = C\n",
    "> \n",
    "> B + C = A\n",
    "> \n",
    "> M * GCD(B, C) + N * GCD(B, C) = A\n",
    "> \n",
    "> (M + N) * GCD(B, C) = A\n",
    "\n",
    "Therefore GCD(B, C) evenly divides A.\n",
    "\n",
    "Next, prove that GCD(A, B) = GCD(A, A - B)\n",
    "\n",
    "GCD(A, B) is given to evenly divide B.\n",
    "GCD(A, B) is proven to evenly divide C.\n",
    "Therefore, GCD(A, B) is a common divisor of B and C. \n",
    "\n",
    "GCD(A, B) <= GCD(B, C) because GCD(B, C) is the <b>greatest</b> common divisor of B and C.\n",
    "\n",
    "GCD(B, C) is given to divide B.\n",
    "GCD(B, C) is proven to divide A.\n",
    "Therefore, GCD(B, C) is a common divisor of A and B.\n",
    "\n",
    "GCD(B, C) <= GCD(A, B) because GCD(A, B) is the <b>greatest</b> common divisor of A and B. \n",
    "\n",
    "Since GCD(A, B) <= GCD(B, C) and GCD(B, C) <= GCD(A, B),\n",
    "Therefore, GCD(A, B) = GCD(B, C).\n",
    "\n",
    "> A - B = C\n",
    "> \n",
    "> GCD(A, B) = GCD(B, C)\n",
    "> \n",
    "> GCD(A, B) = GCD(B, A - B)\n",
    "\n",
    "Therefore, GCD(A, B) = GCD(B, A - B).\n",
    "\n",
    "Summed up in this image:\n",
    "\n",
    "![Visual Proof](https://cdn.kastatic.org/ka-perseus-images/d6568dc48504e7a948ceffc61de4802868d28f76.png)\n",
    "\n",
    "Finally, prove GCD(A, B) = GCD(B, R)\n",
    "\n",
    "> GCD(A, B) = GCD(B, A - B)\n",
    "> \n",
    "> GCD(A, B) = GCD(A - B, B) (The order of the terms doesn't matter)\n",
    "> \n",
    "> GCD(A, B) = GCD(A - B, B) = GCD(A - 2B, B) = GCD(A - 3B, B) = ... = GCD(A - Q * B, B) (Repeated application of property)\n",
    "> \n",
    "> A = Q * B + R\n",
    "> \n",
    "> R = A - Q * B\n",
    "> \n",
    "> GCD(A, B) = GCD(R, B)\n",
    "> \n",
    "> GCD (A, B) = GCD(B, R) (The order of the terms doesn't matter)\n"
   ]
  },
  {
   "cell_type": "markdown",
   "metadata": {},
   "source": [
    "## Example\n",
    "\n",
    "Say you want to find the GCD of 147 and 91.\n",
    "\n",
    "GCD(147, 91) = GCD(91, 147 % 91), and this can be applied multiple times over\n",
    "\n",
    "147 % 91 = 56\n",
    "\n",
    "GCD(91, 56) = GCD(56, 91 % 56)\n",
    "\n",
    "91 % 56 = 35\n",
    "\n",
    "GCD(56, 35) = GCD(35, 56 % 35)\n",
    "\n",
    "56 % 35 = 21\n",
    "\n",
    "GCD(35, 21) = GCD(21, 35 % 21)\n",
    "\n",
    "35 % 21 = 14\n",
    "\n",
    "GCD(21, 14) = GCD(14, 21 % 14)\n",
    "\n",
    "21 % 14 = 7\n",
    "\n",
    "GCD(14, 7) = GCD(7, 14 % 7)\n",
    "\n",
    "14 % 7 = 0\n",
    "\n",
    "GCD(7, 0) = 7\n",
    "\n",
    "Therefore, the GCD of 147 and 91 is 7.\n",
    "\n",
    "As you can see, repeatedly abusing the second property breaks down the huge number until reaching GCD(A, 0) or GCD(0, B), which easily simplifies to A or B respectively."
   ]
  },
  {
   "cell_type": "markdown",
   "metadata": {},
   "source": [
    "## Implementation\n",
    "\n",
    "Though the exact explanation is complicated, implementing it happens to be a lot more fun (and simple). I decided to utilize a recursory function to achieve this, taking the remainder over and over again until reaching 0, which would then return the GCD all the way back up."
   ]
  },
  {
   "cell_type": "code",
   "execution_count": 6,
   "metadata": {
    "vscode": {
     "languageId": "java"
    }
   },
   "outputs": [
    {
     "name": "stdout",
     "output_type": "stream",
     "text": [
      "14\n"
     ]
    }
   ],
   "source": [
    "public class EuclideanAlgorithm {\n",
    "\n",
    "    public static int gcd(int a, int b) {\n",
    "        if (b == 0) { // \n",
    "            return a;\n",
    "        } else {\n",
    "            return gcd(b, a % b); // Simplify the equation down\n",
    "        }\n",
    "    }\n",
    "\n",
    "    public static void main(String[] args) {\n",
    "\n",
    "        System.out.println(gcd(294, 182)); // Test case\n",
    "    }\n",
    "}\n",
    "\n",
    "EuclideanAlgorithm.main(null);"
   ]
  },
  {
   "cell_type": "markdown",
   "metadata": {},
   "source": [
    "## What's the Point?\n",
    "\n",
    "Basically this is useful for taking the modulus of super large numbers (combined with other modulus properties), which is utilized heavily in cryptography. I might delve more into the math behind cryptography in the future, but stuff like this is good for now."
   ]
  }
 ],
 "metadata": {
  "kernelspec": {
   "display_name": "Java",
   "language": "java",
   "name": "java"
  },
  "language_info": {
   "codemirror_mode": "java",
   "file_extension": ".jshell",
   "mimetype": "text/x-java-source",
   "name": "Java",
   "pygments_lexer": "java",
   "version": "17.0.4+8"
  },
  "orig_nbformat": 4,
  "vscode": {
   "interpreter": {
    "hash": "b0fa6594d8f4cbf19f97940f81e996739fb7646882a419484c72d19e05852a7e"
   }
  }
 },
 "nbformat": 4,
 "nbformat_minor": 2
}
