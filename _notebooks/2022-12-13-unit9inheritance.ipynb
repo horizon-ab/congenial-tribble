{
 "cells": [
  {
   "cell_type": "markdown",
   "metadata": {},
   "source": [
    "# Unit 9: Inheritance\n",
    "> Unit 9 of APCSA, focusing on inheritance between classes\n",
    "\n",
    "### Team 8\n",
    "Bailey Say, Andrew Meng, Nicholas Mounier, Rohan Juneja, Aarav Arora"
   ]
  },
  {
   "cell_type": "markdown",
   "metadata": {},
   "source": [
    "## Hacks 1-3"
   ]
  },
  {
   "cell_type": "code",
   "execution_count": 3,
   "metadata": {},
   "outputs": [],
   "source": [
    "public class Bottle {\n",
    "    private String matterState;\n",
    "    private String material;\n",
    "\n",
    "    // Parent constructor\n",
    "    public Bottle(String matterState, String material) {\n",
    "        this.matterState = matterState;\n",
    "        this.material = material;\n",
    "    }\n",
    "\n",
    "    // Two different methods called sayHello, but with different constructors (or method signatures)\n",
    "    public void sayHello() {\n",
    "        System.out.println(\"I am a bottle\");\n",
    "    }\n",
    "\n",
    "    public void sayHello(String name) {\n",
    "        System.out.println(\"I am a bottle called \" + name);\n",
    "    }\n",
    "}\n",
    "\n",
    "public class WaterBottle extends Bottle {\n",
    "    private String liquid;\n",
    "    \n",
    "    // Child constructor; note how it uses super() to automatically initialize some of the attributes\n",
    "    public WaterBottle(String matterState, String material, String liquid) {\n",
    "        super(matterState, material);\n",
    "        this.liquid = liquid;\n",
    "    }\n",
    "\n",
    "    // Overriding a method\n",
    "    @Override\n",
    "    public void sayHello() {\n",
    "        System.out.println(\"I am a water bottle\");\n",
    "    }\n",
    "\n",
    "    // Overriding a method\n",
    "    @Override\n",
    "    public void sayHello(String name) {\n",
    "        System.out.println(\"I am a water bottle called \" + name);\n",
    "    }\n",
    "}"
   ]
  },
  {
   "cell_type": "markdown",
   "metadata": {},
   "source": [
    "## Notes\n",
    "\n",
    "- Classes are allowed to inherit attributes and methods from other classes using the \"extends\" keyword\n",
    "  - Class inheriting is the child class, class being inherited from is the parent class\n",
    "- super() can be used to call methods (and constructors) from the parent class inside the child class\n",
    "  - Subclass constructor can use super() to quickly set attributes originally from the parent class\n",
    "- Polymorphism\n",
    "  - Child class can be treated as an instance of its parent class (referencing superclass of object)\n",
    "    - Child won't be able to access its own methods this way\n",
    "  - Methods can be overriden with new definitions\n",
    "    - @Override keyword\n",
    "  - Methods can be overloaded with different function signatures\n",
    "    - Same name, different parameters\n",
    "- Late binding - Methods are searched for by the compiler during runtime, not during the compilation of the code. Think about overriding the method\n",
    "- Abstract class + methods\n",
    "  - Abstraction\n",
    "  - Cannot create an object from it directly, must be created using a child class inheriting from the abstract class\n",
    "  - Abstract methods originally only have their signature created and must be fully established in the child class definition\n",
    "- Standard methods - methods inherited from the original Object class\n",
    "  - toString() - will usually print out the memory address of an object, can be overriden to print more specific information about the object in question\n",
    "  - equals() - checks if two objects are equal using \"==\" (which checks if the two memory addresses point to the same object); can also be overriden for more specific terms of being equal\n",
    "  - hashCode() - generates a unique numeric ID for each object, which can be used to check if they're equal to one another; can also be overriden for more specific terms"
   ]
  }
 ],
 "metadata": {
  "kernelspec": {
   "display_name": "Java",
   "language": "java",
   "name": "java"
  },
  "language_info": {
   "codemirror_mode": "java",
   "file_extension": ".jshell",
   "mimetype": "text/x-java-source",
   "name": "java",
   "pygments_lexer": "java",
   "version": "17.0.4+8"
  },
  "orig_nbformat": 4,
  "vscode": {
   "interpreter": {
    "hash": "b0fa6594d8f4cbf19f97940f81e996739fb7646882a419484c72d19e05852a7e"
   }
  }
 },
 "nbformat": 4,
 "nbformat_minor": 2
}
