{
 "cells": [
  {
   "attachments": {},
   "cell_type": "markdown",
   "metadata": {},
   "source": [
    "# CanCode Lesson\n",
    "> Reviwe of units 5, 9, 10\n",
    "- title: CanCode Lesson\n",
    "- toc: true\n",
    "- type: ap"
   ]
  },
  {
   "attachments": {},
   "cell_type": "markdown",
   "metadata": {},
   "source": [
    "## Unit 5: Writing Classes\n",
    "\n",
    "- Class Declaration\n",
    "- Class Body\n",
    "  - Attributes\n",
    "  - Methods\n",
    "    - Constructor\n",
    "    - Setters\n",
    "    - Getters\n",
    "- Modifiers\n",
    "  - public, private, protected, static\n",
    "\n",
    "## Unit 9: Java Inheritance\n",
    "\n",
    "- Parent and child classes\n",
    "  - extends keyword\n",
    "- Accessing inherited methods\n",
    "  - super()\n",
    "  - Note: Constructors are never inherited from parent classes; if no constructor is provided then default constructor is provided that just calls super() with no parameters\n",
    "- Polymorphism\n",
    "  - Overloading - same function defined with different params \n",
    "  - Overriding - function changed in child class\n",
    "\n",
    "## Unit 10: Recursion\n",
    "\n",
    "- Function calling itself repeatedly\n",
    "- Breaks down problem into smaller and smaller parts"
   ]
  },
  {
   "attachments": {},
   "cell_type": "markdown",
   "metadata": {},
   "source": [
    "## Hacks"
   ]
  },
  {
   "attachments": {},
   "cell_type": "markdown",
   "metadata": {},
   "source": [
    "### Unit 5"
   ]
  },
  {
   "cell_type": "code",
   "execution_count": 7,
   "metadata": {
    "vscode": {
     "languageId": "java"
    }
   },
   "outputs": [
    {
     "name": "stdout",
     "output_type": "stream",
     "text": [
      "Hello. I am: Bun: Brioche, Meat: Pig\n",
      "Donkey\n"
     ]
    }
   ],
   "source": [
    "public class Hamburger {\n",
    "\n",
    "    public String bun;\n",
    "    private String meat;\n",
    "    public static int count = 0;\n",
    "\n",
    "    Hamburger(String bun, String meat) {\n",
    "        this.bun = bun;\n",
    "        this.meat = meat;\n",
    "        count++;\n",
    "    }\n",
    "\n",
    "    private static void makeBurger() {\n",
    "        count++;\n",
    "    }\n",
    "\n",
    "    public void sayHello() {\n",
    "        System.out.print(\"Hello. I am: \");\n",
    "        System.out.println(this.toString());\n",
    "    }\n",
    "\n",
    "    public String toString() {\n",
    "        return(\"Bun: \" + this.bun + \", Meat: \" + this.meat);\n",
    "    }\n",
    "\n",
    "    public void setMeat(String meat) {\n",
    "        this.meat = meat;\n",
    "    }\n",
    "\n",
    "    public String getMeat() {\n",
    "        return this.meat;\n",
    "    }\n",
    "\n",
    "    public static void main(String[] args) {\n",
    "        Hamburger one_bu = new Hamburger(\"Brioche\", \"Pig\");\n",
    "        one_bu.sayHello();\n",
    "\n",
    "        one_bu.setMeat(\"Donkey\");\n",
    "        System.out.println(one_bu.getMeat());\n",
    "    }\n",
    "}\n",
    "\n",
    "Hamburger.main(null);"
   ]
  },
  {
   "attachments": {},
   "cell_type": "markdown",
   "metadata": {},
   "source": [
    "### Unit 9"
   ]
  },
  {
   "cell_type": "code",
   "execution_count": 9,
   "metadata": {
    "vscode": {
     "languageId": "java"
    }
   },
   "outputs": [
    {
     "name": "stdout",
     "output_type": "stream",
     "text": [
      "Honk!\n",
      "Toyota\n"
     ]
    }
   ],
   "source": [
    "class Vehicle {\n",
    "\n",
    "    protected String name;\n",
    "\n",
    "    // methods and attributes\n",
    "    Vehicle(String name) {\n",
    "        this.name = name;\n",
    "    }\n",
    "\n",
    "    public void honk() {\n",
    "        System.out.println(\"Honk!\");\n",
    "    }\n",
    "\n",
    "}\n",
    "\n",
    "class Car extends Vehicle {\n",
    "\n",
    "    // methods and attributes\n",
    "    Car(String name) {\n",
    "        super(name);\n",
    "    }\n",
    "\n",
    "}\n",
    "\n",
    "class Tester {\n",
    "    public static void main(String[] args) {\n",
    "        Car car = new Car(\"Toyota\");\n",
    "        car.honk();\n",
    "        System.out.println(car.name);\n",
    "    }\n",
    "}\n",
    "\n",
    "Tester.main(null);\n"
   ]
  },
  {
   "cell_type": "code",
   "execution_count": 17,
   "metadata": {
    "vscode": {
     "languageId": "java"
    }
   },
   "outputs": [
    {
     "name": "stdout",
     "output_type": "stream",
     "text": [
      "Hello. I am a cheeseburger.\n",
      "Hello. I am a tofuburger.\n"
     ]
    }
   ],
   "source": [
    "public class Hamburger {\n",
    "\n",
    "    public String bun;\n",
    "    private String meat;\n",
    "    public static int count = 0;\n",
    "\n",
    "    Hamburger(String bun, String meat) {\n",
    "        this.bun = bun;\n",
    "        this.meat = meat;\n",
    "        count++;\n",
    "    }\n",
    "\n",
    "    private static void makeBurger() {\n",
    "        count++;\n",
    "    }\n",
    "\n",
    "    public void sayHello() {\n",
    "        System.out.println(\"Hello. I am a hamburger.\");\n",
    "    }\n",
    "\n",
    "    public String toString() {\n",
    "        return(\"Bun: \" + this.bun + \", Meat: \" + this.meat);\n",
    "    }\n",
    "\n",
    "    public void setMeat(String meat) {\n",
    "        this.meat = meat;\n",
    "    }\n",
    "\n",
    "    public String getMeat() {\n",
    "        return this.meat;\n",
    "    }\n",
    "\n",
    "}\n",
    "\n",
    "public class Cheeseburger extends Hamburger {\n",
    "\n",
    "    Cheeseburger(String bun, String meat) {\n",
    "        super(bun, meat);\n",
    "    }\n",
    "\n",
    "    @Override\n",
    "    public void sayHello() {\n",
    "        System.out.println(\"Hello. I am a cheeseburger.\");\n",
    "    }\n",
    "\n",
    "    public void cheese() {\n",
    "        System.out.println(\"CHEESE.\");\n",
    "    }\n",
    "}\n",
    "\n",
    "public class Tofuburger extends Hamburger {\n",
    "\n",
    "    Tofuburger(String bun, String meat) {\n",
    "        super(bun, meat);\n",
    "    }\n",
    "\n",
    "    @Override\n",
    "    public void sayHello() {\n",
    "        System.out.println(\"Hello. I am a tofuburger.\");\n",
    "    }\n",
    "\n",
    "    public void tofu() {\n",
    "        System.out.println(\"TOFU.\");\n",
    "    }\n",
    "}\n",
    "\n",
    "class Tester {\n",
    "    public static void main(String[] args) {\n",
    "        Hamburger[] one_bu = {new Cheeseburger(\"Staple\", \"Salami\"), new Tofuburger(\"Sourdough\", \"Alligator\")};\n",
    "\n",
    "        for (Hamburger bu : one_bu) {\n",
    "            bu.sayHello();\n",
    "        }\n",
    "    }\n",
    "}\n",
    "\n",
    "Tester.main(null);"
   ]
  },
  {
   "attachments": {},
   "cell_type": "markdown",
   "metadata": {},
   "source": [
    "### Unit 10"
   ]
  },
  {
   "cell_type": "code",
   "execution_count": 7,
   "metadata": {
    "vscode": {
     "languageId": "java"
    }
   },
   "outputs": [
    {
     "name": "stdout",
     "output_type": "stream",
     "text": [
      "3\n",
      "233\n",
      "4181\n"
     ]
    }
   ],
   "source": [
    "public static class Fibonacci {\n",
    "\n",
    "    public static int calculate(int n) {\n",
    "        if (n == 1) {\n",
    "            return 0;\n",
    "        } else if (n == 2) {\n",
    "            return 1;\n",
    "        } else {\n",
    "            return calculate(n - 1) + calculate(n - 2);\n",
    "        }\n",
    "    }\n",
    "}\n",
    "\n",
    "public class Tester {\n",
    "    public static void main(String[] args) {\n",
    "        System.out.println(Fibonacci.calculate(5));\n",
    "        System.out.println(Fibonacci.calculate(14));\n",
    "        System.out.println(Fibonacci.calculate(20));\n",
    "    }\n",
    "}\n",
    "\n",
    "Tester.main(null);"
   ]
  }
 ],
 "metadata": {
  "kernelspec": {
   "display_name": "Java",
   "language": "java",
   "name": "java"
  },
  "language_info": {
   "codemirror_mode": "java",
   "file_extension": ".jshell",
   "mimetype": "text/x-java-source",
   "name": "Java",
   "pygments_lexer": "java",
   "version": "17.0.4+8"
  },
  "orig_nbformat": 4
 },
 "nbformat": 4,
 "nbformat_minor": 2
}
