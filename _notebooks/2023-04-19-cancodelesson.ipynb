{
 "cells": [
  {
   "attachments": {},
   "cell_type": "markdown",
   "metadata": {},
   "source": [
    "# CanCode Lesson\n",
    "> Reviwe of units 5, 9, 10\n",
    "- title: CanCode Lesson\n",
    "- toc: true\n",
    "- type: ap"
   ]
  },
  {
   "attachments": {},
   "cell_type": "markdown",
   "metadata": {},
   "source": [
    "## Unit 5: Writing Classes\n",
    "\n",
    "- Class Declaration\n",
    "- Class Body\n",
    "  - Attributes\n",
    "  - Methods\n",
    "    - Constructor\n",
    "    - Setters\n",
    "    - Getters\n",
    "- Modifiers\n",
    "  - public, private, protected, static\n",
    "\n",
    "## Unit 9: Java Inheritance\n",
    "\n",
    "- Parent and child classes\n",
    "  - extends keyword\n",
    "- Accessing inherited methods\n",
    "  - super()\n",
    "  - Note: Constructors are never inherited from parent classes; if no constructor is provided then default constructor is provided that just calls super() with no parameters\n",
    "- Polymorphism\n",
    "  - Overloading - same function defined with different params \n",
    "  - Overriding - function changed in child class\n",
    "\n",
    "## Unit 10: Recursion\n",
    "\n",
    "- Function calling itself repeatedly\n",
    "- Breaks down problem into smaller and smaller parts"
   ]
  }
 ],
 "metadata": {
  "language_info": {
   "name": "python"
  },
  "orig_nbformat": 4
 },
 "nbformat": 4,
 "nbformat_minor": 2
}
