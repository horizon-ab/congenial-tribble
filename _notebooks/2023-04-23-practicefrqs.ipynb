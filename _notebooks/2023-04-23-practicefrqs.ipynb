{
 "cells": [
  {
   "attachments": {},
   "cell_type": "markdown",
   "metadata": {},
   "source": [
    "# Practice FRQs\n",
    "> Practicing FRQ types\n",
    "- title: Practice FRQs\n",
    "- toc: true\n",
    "- type: ap"
   ]
  },
  {
   "attachments": {},
   "cell_type": "markdown",
   "metadata": {},
   "source": [
    "## Methods and Control Structures"
   ]
  },
  {
   "cell_type": "code",
   "execution_count": 18,
   "metadata": {
    "vscode": {
     "languageId": "java"
    }
   },
   "outputs": [
    {
     "name": "stdout",
     "output_type": "stream",
     "text": [
      "true\n"
     ]
    }
   ],
   "source": [
    "public class Digits {\n",
    "/** The list of digits from the number used to construct this object.\n",
    "* The digits appear in the list in the same order in which they appear in the original number.\n",
    "*/ \n",
    "    private ArrayList<Integer> digitList;\n",
    "    /** Constructs a Digits object that represents num.\n",
    "    * Precondition: num >= 0\n",
    "    */\n",
    "\n",
    "    public Digits (int num) {\n",
    "        /* to be implemented in part (a) */\n",
    "    /** Returns true if the digits in this Digits object are in strictly increasing order;\n",
    "     * false otherwise. */\n",
    "        this.digitList = new ArrayList<Integer>();\n",
    "        while (num > 0) {\n",
    "            digitList.add(0, num % 10);\n",
    "            num /= 10;\n",
    "        }\n",
    "    }\n",
    "    public boolean isStrictlyIncreasing () {\n",
    "        /* to be implemented in part (b) */\n",
    "        for (int i = 0; i < digitList.size() - 1; i++) {\n",
    "            if (digitList.get(i) > digitList.get(i + 1)) {\n",
    "                return false;\n",
    "            }\n",
    "        }\n",
    "        return true;\n",
    "    }\n",
    "\n",
    "    public static void main(String[] args) {\n",
    "        Digits d1 = new Digits(123456789);\n",
    "        System.out.println(d1.isStrictlyIncreasing());\n",
    "    }\n",
    "}\n",
    "\n",
    "Digits.main(null);"
   ]
  },
  {
   "attachments": {},
   "cell_type": "markdown",
   "metadata": {},
   "source": [
    "## Classes"
   ]
  },
  {
   "cell_type": "code",
   "execution_count": 24,
   "metadata": {
    "vscode": {
     "languageId": "java"
    }
   },
   "outputs": [
    {
     "name": "stdout",
     "output_type": "stream",
     "text": [
      "4 TIMES 5\n",
      "4 TIMES 6\n",
      "4 TIMES 7\n",
      "4 TIMES 8\n",
      "4 TIMES 9\n",
      "4 TIMES 10\n",
      "4 TIMES 11\n",
      "4 TIMES 12\n",
      "4 TIMES 13\n",
      "4 TIMES 14\n"
     ]
    }
   ],
   "source": [
    "public interface StudyPractice {\n",
    "/** Returns the current practice problem. */\n",
    "    String getProblem();\n",
    "/** Changes to the next practice problem. */\n",
    "    void nextProblem();\n",
    "}\n",
    "\n",
    "public class MultPractice implements StudyPractice {\n",
    "\n",
    "    private int firstInt;\n",
    "    private int secondInt;\n",
    "    private String problem;\n",
    "\n",
    "    MultPractice(int firstInt, int secondInt) {\n",
    "        this.firstInt = firstInt;\n",
    "        this.secondInt = secondInt;\n",
    "        this.problem = firstInt + \" TIMES \" + secondInt;\n",
    "    }\n",
    "\n",
    "    @Override\n",
    "    public String getProblem() {\n",
    "        return this.problem;\n",
    "    }\n",
    "\n",
    "    @Override\n",
    "    public void nextProblem() {\n",
    "        secondInt++;\n",
    "        this.problem = firstInt + \" TIMES \" + secondInt;\n",
    "    }\n",
    "\n",
    "    public static void main(String[] args) {\n",
    "        MultPractice m1 = new MultPractice(4, 5);\n",
    "        for (int i = 0; i < 10; i++) {\n",
    "            System.out.println(m1.getProblem());\n",
    "            m1.nextProblem();\n",
    "        }\n",
    "    }\n",
    "}\n",
    "\n",
    "MultPractice.main(null);"
   ]
  },
  {
   "attachments": {},
   "cell_type": "markdown",
   "metadata": {},
   "source": [
    "## Arrays and Arraylists"
   ]
  },
  {
   "cell_type": "code",
   "execution_count": 21,
   "metadata": {
    "vscode": {
     "languageId": "java"
    }
   },
   "outputs": [
    {
     "name": "stdout",
     "output_type": "stream",
     "text": [
      "10\n",
      "I love to code code in CSA!\n",
      "15\n"
     ]
    }
   ],
   "source": [
    "public class Phrase {\n",
    "    private String currentPhrase;\n",
    "\n",
    "    /** Constructs a new Phrase object. */\n",
    "    public Phrase (String p) {\n",
    "        currentPhrase = p;\n",
    "    }\n",
    "\n",
    "    /** Returns the index of the nth occurrence of str in the current phrase;\n",
    "    * returns -1 if the nth occurrence does not exist.\n",
    "    * Precondition: str.length () > 0 and n > 0\n",
    "    * Postcondition: the current phrase is not modified.\n",
    "    */\n",
    "    public int findNthOccurrence(String str, int n) {\n",
    "        int counter = 0;\n",
    "        for (int i = 0; i < currentPhrase.length() - str.length() + 1; i++) {\n",
    "            if (currentPhrase.substring(i, i + str.length()).equals(str)) {\n",
    "                counter++;\n",
    "                if (counter == n) {\n",
    "                    return i;\n",
    "                }\n",
    "            }\n",
    "        }\n",
    "        return -1;\n",
    "    }\n",
    "\n",
    "    /* implementation not shown */\n",
    "    /** Modifies the current phrase by replacing the nth occurrence of str with repl.\n",
    "    * If the nth occurrence does not exist, the current phrase is unchanged.\n",
    "    * Precondition: str.length () > 0 and n > 0\n",
    "    */\n",
    "    public void replaceNthOccurrence(String str, int n, String repl) {\n",
    "        /* to be implemented in part (a) */ \n",
    "        int index = findNthOccurrence(str, n);\n",
    "        if (index != -1) {\n",
    "            currentPhrase = currentPhrase.substring(0, index) + repl + currentPhrase.substring(index + str.length(), currentPhrase.length());\n",
    "        }\n",
    "    }\n",
    "\n",
    "\n",
    "    /** Returns the index of the last occurrence of str in the current phrase;\n",
    "    * returns -1 if str is not found.\n",
    "    * Precondition: str.length () > 0\n",
    "    * Postcondition: the current phrase is not modified.\n",
    "    */\n",
    "    public int findLastOccurrence(String str) {\n",
    "    /* to be implemented in part (b) */ \n",
    "        int index = -1;\n",
    "        for (int i = 0; i < currentPhrase.length() - str.length(); i++) {\n",
    "            if (currentPhrase.substring(i, i + str.length()).equals(str)) {\n",
    "                index = i;\n",
    "            }\n",
    "        }\n",
    "        return index;\n",
    "\n",
    "    }\n",
    "    /** Returns a string containing the current phrase. */ \n",
    "    public String toString() {\n",
    "        return currentPhrase;\n",
    "    }\n",
    "\n",
    "}\n",
    "\n",
    "class Tester {\n",
    "\n",
    "    public static void main(String[] args) {\n",
    "        Phrase p1 = new Phrase(\"I love to code code code\");\n",
    "        System.out.println(p1.findNthOccurrence(\"code\", 1));\n",
    "\n",
    "        p1.replaceNthOccurrence(\"code\", 3, \"in CSA!\");\n",
    "        System.out.println(p1);\n",
    "\n",
    "        System.out.println(p1.findLastOccurrence(\"code\"));\n",
    "    }\n",
    "}\n",
    "\n",
    "Tester.main(null);"
   ]
  },
  {
   "attachments": {},
   "cell_type": "markdown",
   "metadata": {},
   "source": [
    "## 2D Arrays"
   ]
  },
  {
   "cell_type": "code",
   "execution_count": 5,
   "metadata": {
    "vscode": {
     "languageId": "java"
    }
   },
   "outputs": [],
   "source": [
    "public class Position {\n",
    "\n",
    "    private int r;\n",
    "    private int c;\n",
    "\n",
    "    /** Constructs a Position obiect with row r and column c. */ \n",
    "    public Position (int r, int c) {\n",
    "        /* implementation not shown */\n",
    "        this.r = r;\n",
    "        this.c = c;\n",
    "    }\n",
    "\n",
    "    public static Position findPosition(int num, int[][] arr) {\n",
    "        for (int i = 0; i < arr.length; i++) {\n",
    "            for (int j = 0; j < arr[i].length; j++) {\n",
    "                if (arr[i][j] == num) {\n",
    "                    return new Position(i, j);\n",
    "                }\n",
    "            }\n",
    "        }\n",
    "        return null;\n",
    "    }\n",
    "\n",
    "    public static Position[][] getSuccessorArray(int[][] arr) {\n",
    "        Position[][] successorArray = new Position[arr.length][arr[0].length];\n",
    "        for (int i = 0; i < arr.length; i++) {\n",
    "            for (int j = 0; j < arr[i].length; j++) {\n",
    "                successoryArray[i][j] = findPosition(arr[i][j] + 1, arr);\n",
    "            }\n",
    "        }\n",
    "        return successorArray;\n",
    "    }\n",
    "\n",
    "/* There may be instance variables, constructors, and methods that are not shown. */\n",
    "}"
   ]
  }
 ],
 "metadata": {
  "kernelspec": {
   "display_name": "Java",
   "language": "java",
   "name": "java"
  },
  "language_info": {
   "codemirror_mode": "java",
   "file_extension": ".jshell",
   "mimetype": "text/x-java-source",
   "name": "Java",
   "pygments_lexer": "java",
   "version": "17.0.4+8"
  },
  "orig_nbformat": 4
 },
 "nbformat": 4,
 "nbformat_minor": 2
}
