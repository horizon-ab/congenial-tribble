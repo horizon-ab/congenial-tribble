{
 "cells": [
  {
   "attachments": {},
   "cell_type": "markdown",
   "metadata": {},
   "source": [
    "# Don FRQs 2014\n",
    "> Don FRQs 2014\n",
    "- title: Don FRQs 2014\n",
    "- toc: true\n",
    "- type: ap"
   ]
  },
  {
   "attachments": {},
   "cell_type": "markdown",
   "metadata": {},
   "source": [
    "### FRQ 1"
   ]
  },
  {
   "cell_type": "code",
   "execution_count": 19,
   "metadata": {
    "vscode": {
     "languageId": "java"
    }
   },
   "outputs": [
    {
     "name": "stdout",
     "output_type": "stream",
     "text": [
      "BARCADABARA\n"
     ]
    }
   ],
   "source": [
    "// part a\n",
    "public String scrambleWord(String word){\n",
    "    String scrambled = \"\";\n",
    "\n",
    "    for(int i = 1; i < word.length(); i++){\n",
    "        word.substring(i-1,i+1);\n",
    "        if(word.substring(i-1, i).equals(\"A\") && !word.substring(i, i+1).equals(\"A\")){\n",
    "            scrambled += word.substring(i, i+1);\n",
    "            scrambled += word.substring(i-1, i);\n",
    "            i++;\n",
    "        } else{\n",
    "            scrambled += word.substring(i-1, i);\n",
    "            if(i == word.length() - 1){\n",
    "                scrambled += word.substring(i, i+1);\n",
    "            }\n",
    "        }\n",
    "\n",
    "    }\n",
    "\n",
    "    \n",
    "    return scrambled;\n",
    "}\n",
    "\n",
    "System.out.println(scrambleWord(\"ABRACADABARA\"));"
   ]
  },
  {
   "attachments": {},
   "cell_type": "markdown",
   "metadata": {},
   "source": [
    "### FRQ 2"
   ]
  },
  {
   "cell_type": "code",
   "execution_count": null,
   "metadata": {
    "vscode": {
     "languageId": "java"
    }
   },
   "outputs": [],
   "source": []
  }
 ],
 "metadata": {
  "kernelspec": {
   "display_name": "Java",
   "language": "java",
   "name": "java"
  },
  "language_info": {
   "codemirror_mode": "java",
   "file_extension": ".jshell",
   "mimetype": "text/x-java-source",
   "name": "Java",
   "pygments_lexer": "java",
   "version": "17.0.4+8"
  },
  "orig_nbformat": 4
 },
 "nbformat": 4,
 "nbformat_minor": 2
}
