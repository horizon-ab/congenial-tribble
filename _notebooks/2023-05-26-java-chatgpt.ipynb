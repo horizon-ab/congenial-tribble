{
 "cells": [
  {
   "attachments": {},
   "cell_type": "markdown",
   "metadata": {},
   "source": [
    "# ChatGPT in Java\n",
    "> How to call the ChatGPT API from a Java file\n",
    "\n",
    "- title: ChatGPT in Java\n",
    "- toc: true\n",
    "- author: Bailey Say, Don Tran"
   ]
  },
  {
   "attachments": {},
   "cell_type": "markdown",
   "metadata": {},
   "source": [
    "## Overview\n",
    "\n",
    "ChatGPT is a pretty useful AI model to access in your code without having to create your own model. Essentially, this tutorial will give you a pretty good idea of how to directly access the API in Java.\n",
    "\n",
    "Steps:\n",
    "\n",
    "1. Get access to an API Key\n",
    "2. Store the API Key securely in the code\n",
    "3. Create a fetch request to the API in Java\n",
    "\n",
    "And that's really it."
   ]
  },
  {
   "attachments": {},
   "cell_type": "markdown",
   "metadata": {},
   "source": [
    "## Step 1: Get access to an API Key\n",
    "\n",
    "Basically, not just anybody can access the ChatGPT API; you need a secret key to be allowed access to the API. Luckily, it's pretty easy to get one.\n",
    "\n",
    "1. Create an Open AI account ([link here](https://openai.com/)). \n",
    "2. Go to your personal list of API keys ([link here](https://platform.openai.com/account/api-keys)).\n",
    "3. Select \"create new secret key\"\n",
    "4. Copy the given API key and store it somewhere\n",
    "   \n",
    "Note: Make sure to store the API key in somewhere safe, but you CANNOT leave this key in plaintext in a file and push it to the Github repository. Open AI will automatically detect the presence of this key and disable it for security reasons. If this ever happens, just create a new secret key. There are no penalties for this. "
   ]
  },
  {
   "attachments": {},
   "cell_type": "markdown",
   "metadata": {},
   "source": [
    "## Step 2: Store the API Key securely in the code\n",
    "\n",
    "If you want to just have fun accessing ChatGPT from Java without using it in a final deployed project, you can just skip this step. This step is only necessary if you want to access ChatGPT safely and securely for a deployed project.\n",
    "\n",
    "Unfortunately, this was the most painful part of getting everything to work. There are really two ways of doing this that we know of. The first involves storing the API key inside the Github repository and directly accessing it inside the code. The second involves adding a plaintext file with the API key onto AWS and using a file reader to access the key.\n",
    "\n",
    "In theory, the first method should be the correct way to do things, but we couldn't get it to work for whatever reason. The steps will be listed below, but if you want a method that's guaranteed to work (though may be slightly scuffed) you can just skip these.\n",
    "\n",
    "1. Go to the backend Github repository.\n",
    "2. Access settings (note that only contributers with admin permissions are allowed to access settings).\n",
    "3. "
   ]
  }
 ],
 "metadata": {
  "language_info": {
   "name": "python"
  },
  "orig_nbformat": 4
 },
 "nbformat": 4,
 "nbformat_minor": 2
}
