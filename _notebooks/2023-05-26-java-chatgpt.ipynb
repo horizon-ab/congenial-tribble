{
 "cells": [
  {
   "attachments": {},
   "cell_type": "markdown",
   "metadata": {},
   "source": [
    "# ChatGPT in Java\n",
    "> How to call the ChatGPT API from a Java file\n",
    "\n",
    "- title: ChatGPT in Java\n",
    "- toc: true\n",
    "- author: Bailey Say, Don Tran"
   ]
  },
  {
   "attachments": {},
   "cell_type": "markdown",
   "metadata": {},
   "source": [
    "## Overview\n",
    "\n",
    "ChatGPT is a pretty useful AI model to access in your code without having to create your own model. Essentially, this tutorial will give you a pretty good idea of how to directly access the API in Java. Also, all this was written by me, Bailey, but Don also did a lot with getting this implementation to work.\n",
    "\n",
    "Steps:\n",
    "\n",
    "1. Get access to an API Key\n",
    "2. Store the API Key securely in the code\n",
    "3. Create a fetch request to the API in Java\n",
    "\n",
    "And that's really it."
   ]
  },
  {
   "attachments": {},
   "cell_type": "markdown",
   "metadata": {},
   "source": [
    "## Step 1: Get access to an API Key\n",
    "\n",
    "Basically, not just anybody can access the ChatGPT API; you need a secret key to be allowed access to the API. Luckily, it's pretty easy to get one.\n",
    "\n",
    "1. Create an Open AI account ([link here](https://openai.com/)). \n",
    "2. Go to your personal list of API keys ([link here](https://platform.openai.com/account/api-keys)).\n",
    "3. Select \"create new secret key\"\n",
    "4. Copy the given API key and store it somewhere\n",
    "   \n",
    "Note: Make sure to store the API key in somewhere safe, but you CANNOT leave this key in plaintext in a file and push it to the Github repository. Open AI will automatically detect the presence of this key and disable it for security reasons. If this ever happens, just create a new secret key. There are no penalties for this. \n",
    "\n",
    "5. Go to \"Billing\" and set up a paid account\n",
    "\n",
    "Yes, you will have to pay money to use the API. It turns out that Open AI doesn't want you to use their all-powerful AI willy-nilly without a price, but luckily it doesn't cost that much. This billing relies on a token system, which is a bit confusing, but the gist of it is that you spend a certain amount of tokens everytime you make a request to ChatGPT (I believe the token cost is based on the number of words in the prompt, but I'm not too sure to be honest; [this article](https://help.openai.com/en/articles/4936856-what-are-tokens-and-how-to-count-them) explains it well). As long as you don't completely abuse the API, you'll be paying less than $0.50 per month. Plus, I think they also give you $5 for the first 3 months, which is nice. In any case, don't worry about running out of money. "
   ]
  },
  {
   "attachments": {},
   "cell_type": "markdown",
   "metadata": {},
   "source": [
    "## Step 2: Store the API Key securely in the code\n",
    "\n",
    "If you want to just have fun accessing ChatGPT from Java without using it in a final deployed project, you can just skip this step. You can just probably put the key in plaintext and it won't complain as long as it isn't pushed to the repostiory. This step is only necessary if you want to access ChatGPT safely and securely for a deployed project.\n",
    "\n",
    "Unfortunately, this was the most painful part of getting everything to work. There are really two ways of doing this that we know of. The first involves storing the API key inside the Github repository and directly accessing it inside the code. The second involves adding a plaintext file with the API key onto the repo but then adding it into .gitignore and using a file reader to access the key.\n",
    "\n",
    "In theory, the first method should be the correct way to do things, but we couldn't get it to work for whatever reason. The steps will be listed below, but if you want a method that's guaranteed to work (though may be slightly scuffed) you can just skip these.\n",
    "\n",
    "1. Go to the backend Github repository.\n",
    "2. Access settings (note that only contributers with admin permissions are allowed to access settings).\n",
    "3. Access secrets, then access environmental variables\n",
    "4. Copy and paste your API key into a newly created environmental variable\n",
    "5. Access the variable through a .yml file\n",
    "\n",
    "Step 5 is what we were struggling on. Whether it be some issue with the environmental variable itself or the way we accessed it in the .yml file, we couldn't get it to work.\n",
    "\n",
    "Instead, as an alternative, we (more like Don) utilized .gitignore to store the file without it being pushed to the main repo and a file reader to read that file with these steps below:\n",
    "\n",
    "1. Create a .txt file on the AWS local server with just the key inside of it \n",
    "   \n",
    "(I'm going to be honest, this part was a bit confusing for me, because I didn't actually do it, Don did. But essentially it works because the deployed website will read from the .txt file on the AWS server and not from )\n",
    "\n",
    "2. Add the .txt file to .gitignore\n",
    "\n",
    "This part may seem a bit complicated, but it really isn't that bad. You can just add the below to the bottom of your .gitignore and everything should be fine."
   ]
  },
  {
   "cell_type": "raw",
   "metadata": {},
   "source": [
    "### VSCODE ###\n",
    ".vscode/\n",
    "key.txt"
   ]
  },
  {
   "attachments": {},
   "cell_type": "markdown",
   "metadata": {},
   "source": [
    "Obviously, key.txt should be the name of your file.\n",
    "\n",
    "And this should prevent key.txt from being pushed into the repository, so everything's good.\n",
    "\n",
    "3. Create a file reader to read the file\n",
    "   \n",
    "Don also did most of this. "
   ]
  },
  {
   "attachments": {},
   "cell_type": "markdown",
   "metadata": {},
   "source": [
    "## Step 3: Create a fetch request to the API in Java\n",
    "\n",
    "This is probably the easiest "
   ]
  }
 ],
 "metadata": {
  "language_info": {
   "name": "python"
  },
  "orig_nbformat": 4
 },
 "nbformat": 4,
 "nbformat_minor": 2
}
