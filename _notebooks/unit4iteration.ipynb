{
 "cells": [
  {
   "cell_type": "markdown",
   "metadata": {},
   "source": [
    "# Unit 4: Iteration\n",
    "\n",
    "- title: Using Objects\n",
    "- toc: true\n",
    "- categories: [college board, units]"
   ]
  },
  {
   "cell_type": "markdown",
   "metadata": {},
   "source": [
    "## Iteration in Java\n",
    "\n",
    "Iteration may be one of the most crucial features for any programming language, since they allow computers to do what they do best: do copious amounts of menial tasks quickly and efficiently.\n",
    "\n",
    "Of course, Java can also perform iteration using numerous different structures."
   ]
  },
  {
   "cell_type": "markdown",
   "metadata": {},
   "source": [
    "## For Loops\n",
    "\n",
    "TODO: Explain for loops"
   ]
  },
  {
   "cell_type": "code",
   "execution_count": null,
   "metadata": {},
   "outputs": [],
   "source": [
    "public class ForLoops {\n",
    "\n",
    "    public static void (String[] args) {\n",
    "\n",
    "    }\n",
    "}\n",
    "\n",
    "ForLoops.main(null);"
   ]
  },
  {
   "cell_type": "markdown",
   "metadata": {},
   "source": [
    "### Hacks\n",
    "\n",
    "TODO: Basic for loop hacks"
   ]
  },
  {
   "cell_type": "markdown",
   "metadata": {},
   "source": [
    "## While Loops\n",
    "\n",
    "TODO: Explain while loops"
   ]
  },
  {
   "cell_type": "code",
   "execution_count": null,
   "metadata": {},
   "outputs": [],
   "source": [
    "public class WhileLoops {\n",
    "\n",
    "    public static void (String[] args) {\n",
    "\n",
    "    }\n",
    "}\n",
    "\n",
    "WhileLoops.main(null);"
   ]
  },
  {
   "cell_type": "markdown",
   "metadata": {},
   "source": [
    "### Hacks\n",
    "\n",
    "TODO: Basic while loop hacks"
   ]
  },
  {
   "cell_type": "markdown",
   "metadata": {},
   "source": [
    "## Nested Iteration\n",
    "\n",
    "TODO: Explain nested iteration"
   ]
  },
  {
   "cell_type": "markdown",
   "metadata": {},
   "source": [
    "## For Each Loops\n",
    "\n",
    "TODO: Explain for each loops (these are extra)"
   ]
  },
  {
   "cell_type": "code",
   "execution_count": null,
   "metadata": {},
   "outputs": [],
   "source": [
    "public class ForEachLoops {\n",
    "\n",
    "    public static void (String[] args) {\n",
    "\n",
    "        \n",
    "\n",
    "    }\n",
    "}\n",
    "\n",
    "ForEachLoops.main(null);"
   ]
  },
  {
   "cell_type": "markdown",
   "metadata": {},
   "source": [
    "## Stream\n",
    "\n",
    "TODO: Explain Stream (these are extra)"
   ]
  },
  {
   "cell_type": "code",
   "execution_count": null,
   "metadata": {},
   "outputs": [],
   "source": [
    "public class Stream {\n",
    "\n",
    "    public static void (String[] args) {\n",
    "        \n",
    "    }\n",
    "}\n",
    "\n",
    "Stream.main(null);"
   ]
  },
  {
   "cell_type": "markdown",
   "metadata": {},
   "source": [
    "## Final Hacks\n",
    "\n",
    "TODO: Caesar Cipher Homework"
   ]
  }
 ],
 "metadata": {
  "kernelspec": {
   "display_name": "Java",
   "language": "java",
   "name": "java"
  },
  "language_info": {
   "name": "java"
  },
  "orig_nbformat": 4
 },
 "nbformat": 4,
 "nbformat_minor": 2
}
